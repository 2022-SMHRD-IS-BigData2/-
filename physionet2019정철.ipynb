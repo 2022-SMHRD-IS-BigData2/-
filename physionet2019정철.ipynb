{
 "cells": [
  {
   "cell_type": "code",
   "execution_count": 1,
   "id": "3f8969e5",
   "metadata": {
    "ExecuteTime": {
     "end_time": "2023-02-20T03:06:14.823223Z",
     "start_time": "2023-02-20T03:06:14.400896Z"
    }
   },
   "outputs": [],
   "source": [
    "import pandas as pd, numpy as np\n",
    "from glob import glob\n",
    "from tqdm.notebook import tqdm"
   ]
  },
  {
   "cell_type": "code",
   "execution_count": 71,
   "id": "6f34fb73",
   "metadata": {
    "ExecuteTime": {
     "end_time": "2023-02-20T07:45:45.214969Z",
     "start_time": "2023-02-20T07:41:45.519943Z"
    }
   },
   "outputs": [
    {
     "data": {
      "application/vnd.jupyter.widget-view+json": {
       "model_id": "a485233d53ef43e0b4a3bf1baef6ad37",
       "version_major": 2,
       "version_minor": 0
      },
      "text/plain": [
       "  0%|          | 0/20336 [00:00<?, ?it/s]"
      ]
     },
     "metadata": {},
     "output_type": "display_data"
    },
    {
     "data": {
      "application/vnd.jupyter.widget-view+json": {
       "model_id": "7aa7b71d34ec47f3935e9bef8a0ba9b3",
       "version_major": 2,
       "version_minor": 0
      },
      "text/plain": [
       "  0%|          | 0/20000 [00:00<?, ?it/s]"
      ]
     },
     "metadata": {},
     "output_type": "display_data"
    }
   ],
   "source": [
    "dfA = []\n",
    "for path in tqdm(glob('./data/training_setA/training/*.psv')):\n",
    "    df = pd.read_csv(path, sep=\"|\")\n",
    "    pid = int(path.split(\"\\\\\")[1][1:-4])\n",
    "    df['pid']=pid\n",
    "    dfA.append(df)\n",
    "\n",
    "dfB=[]\n",
    "for path in tqdm(glob('./data/training_setB/training_setB/*.psv')):\n",
    "    df = pd.read_csv(path, sep=\"|\")\n",
    "    pid = int(path.split(\"\\\\\")[1][1:-4])\n",
    "    df['pid'] = pid\n",
    "    dfB.append(df)  "
   ]
  },
  {
   "cell_type": "code",
   "execution_count": 73,
   "id": "335a0263",
   "metadata": {
    "ExecuteTime": {
     "end_time": "2023-02-20T07:46:08.148580Z",
     "start_time": "2023-02-20T07:45:49.505402Z"
    }
   },
   "outputs": [],
   "source": [
    "dfA = pd.concat(dfA)\n",
    "dfB = pd.concat(dfB)"
   ]
  },
  {
   "cell_type": "code",
   "execution_count": 74,
   "id": "0e233531",
   "metadata": {
    "ExecuteTime": {
     "end_time": "2023-02-20T07:46:08.864781Z",
     "start_time": "2023-02-20T07:46:08.149220Z"
    }
   },
   "outputs": [],
   "source": [
    "df = pd.concat([dfA,dfB]).reset_index(drop=True)"
   ]
  },
  {
   "cell_type": "markdown",
   "id": "3f4b76e7",
   "metadata": {},
   "source": [
    "### train, test 분리"
   ]
  },
  {
   "cell_type": "code",
   "execution_count": 75,
   "id": "ce2a25e5",
   "metadata": {
    "ExecuteTime": {
     "end_time": "2023-02-20T07:46:09.414798Z",
     "start_time": "2023-02-20T07:46:08.865879Z"
    }
   },
   "outputs": [],
   "source": [
    "# 3만명의 샘플을 가져온다.\n",
    "train_pids = df.pid.sample(30000, replace=False, random_state=7777)\n",
    "#\n",
    "train_df = df.query('pid in @train_pids').reset_index(drop=True)\n",
    "test_df = df.query('pid not in @train_pids').reset_index(drop=True)"
   ]
  },
  {
   "cell_type": "markdown",
   "id": "e80a9699",
   "metadata": {},
   "source": [
    "### Nan 값 채우기 (median & forward fill)"
   ]
  },
  {
   "cell_type": "code",
   "execution_count": 76,
   "id": "ccda9963",
   "metadata": {
    "ExecuteTime": {
     "end_time": "2023-02-20T07:46:29.899526Z",
     "start_time": "2023-02-20T07:46:09.416023Z"
    }
   },
   "outputs": [
    {
     "data": {
      "application/vnd.jupyter.widget-view+json": {
       "model_id": "6088fc2d7ac94e198a2d1a9a16b8d0b3",
       "version_major": 2,
       "version_minor": 0
      },
      "text/plain": [
       "  0%|          | 0/34 [00:00<?, ?it/s]"
      ]
     },
     "metadata": {},
     "output_type": "display_data"
    }
   ],
   "source": [
    "vital_cols=['HR', 'O2Sat', 'Temp', 'SBP', 'MAP', 'DBP', 'Resp', 'EtCO2',\n",
    "       'BaseExcess', 'HCO3', 'FiO2', 'pH', 'PaCO2', 'SaO2', 'AST', 'BUN',\n",
    "       'Alkalinephos', 'Calcium', 'Chloride', 'Creatinine', 'Bilirubin_direct',\n",
    "       'Glucose', 'Lactate', 'Magnesium', 'Phosphate', 'Potassium',\n",
    "       'Bilirubin_total', 'TroponinI', 'Hct', 'Hgb', 'PTT', 'WBC',\n",
    "       'Fibrinogen', 'Platelets']\n",
    "\n",
    "col_stat = {}\n",
    "\n",
    "for col in tqdm(vital_cols):\n",
    "    col_stat[col] = {}\n",
    "    col_stat[col]['mean']=train_df[col].median()\n",
    "    col_stat[col]['median'] = train_df[col].median()\n",
    "    col_stat[col]['std'] = train_df[col].std()\n",
    "    \n",
    "    first_index = train_df.drop_duplicates(['pid'], keep='first').index\n",
    "    train_df.loc[first_index, col] = train_df.loc[first_index,col].apply(lambda x:col_stat[col]['median'] if pd.isna(x) else x)\n",
    "    train_df[col] = train_df[col].fillna(method='ffill')\n",
    "    \n",
    "    first_index = test_df.drop_duplicates(['pid'], keep='first').index\n",
    "    test_df.loc[first_index, col] = test_df.loc[first_index,col].apply(lambda x:col_stat[col]['median'] if pd.isna(x) else x)\n",
    "    test_df[col] = test_df[col].fillna(method='ffill')"
   ]
  },
  {
   "cell_type": "code",
   "execution_count": 77,
   "id": "91eb6b95",
   "metadata": {
    "ExecuteTime": {
     "end_time": "2023-02-20T07:46:29.921024Z",
     "start_time": "2023-02-20T07:46:29.901496Z"
    }
   },
   "outputs": [
    {
     "data": {
      "text/plain": [
       "array([     1,      2,      3, ..., 119996, 119997, 120000], dtype=int64)"
      ]
     },
     "execution_count": 77,
     "metadata": {},
     "output_type": "execute_result"
    }
   ],
   "source": [
    "train_df.pid.unique()"
   ]
  },
  {
   "cell_type": "markdown",
   "id": "fa647af8",
   "metadata": {},
   "source": [
    "### Normalize"
   ]
  },
  {
   "cell_type": "markdown",
   "id": "fb88695c",
   "metadata": {
    "ExecuteTime": {
     "end_time": "2023-02-20T02:47:49.247427Z",
     "start_time": "2023-02-20T02:47:47.432560Z"
    }
   },
   "source": [
    "for col in tqdm(vital_cols) :\n",
    "    train_df[col] = (train_df[col]-col_stat[col]['mean'])/col_stat[col]['std']"
   ]
  },
  {
   "cell_type": "markdown",
   "id": "da704874",
   "metadata": {
    "ExecuteTime": {
     "end_time": "2023-02-20T02:47:50.971704Z",
     "start_time": "2023-02-20T02:47:49.247914Z"
    }
   },
   "source": [
    "for col in tqdm(vital_cols) :\n",
    "    test_df[col] = (test_df[col]-col_stat[col]['mean'])/col_stat[col]['std']"
   ]
  },
  {
   "cell_type": "code",
   "execution_count": 78,
   "id": "03467026",
   "metadata": {
    "ExecuteTime": {
     "end_time": "2023-02-20T07:46:35.132203Z",
     "start_time": "2023-02-20T07:46:34.903482Z"
    },
    "scrolled": false
   },
   "outputs": [
    {
     "data": {
      "text/html": [
       "<div>\n",
       "<style scoped>\n",
       "    .dataframe tbody tr th:only-of-type {\n",
       "        vertical-align: middle;\n",
       "    }\n",
       "\n",
       "    .dataframe tbody tr th {\n",
       "        vertical-align: top;\n",
       "    }\n",
       "\n",
       "    .dataframe thead th {\n",
       "        text-align: right;\n",
       "    }\n",
       "</style>\n",
       "<table border=\"1\" class=\"dataframe\">\n",
       "  <thead>\n",
       "    <tr style=\"text-align: right;\">\n",
       "      <th></th>\n",
       "      <th>HR</th>\n",
       "      <th>O2Sat</th>\n",
       "      <th>Temp</th>\n",
       "      <th>SBP</th>\n",
       "      <th>MAP</th>\n",
       "      <th>DBP</th>\n",
       "      <th>Resp</th>\n",
       "      <th>EtCO2</th>\n",
       "      <th>BaseExcess</th>\n",
       "      <th>HCO3</th>\n",
       "      <th>...</th>\n",
       "      <th>Fibrinogen</th>\n",
       "      <th>Platelets</th>\n",
       "      <th>Age</th>\n",
       "      <th>Gender</th>\n",
       "      <th>Unit1</th>\n",
       "      <th>Unit2</th>\n",
       "      <th>HospAdmTime</th>\n",
       "      <th>ICULOS</th>\n",
       "      <th>SepsisLabel</th>\n",
       "      <th>pid</th>\n",
       "    </tr>\n",
       "  </thead>\n",
       "  <tbody>\n",
       "    <tr>\n",
       "      <th>0</th>\n",
       "      <td>84.0</td>\n",
       "      <td>98.0</td>\n",
       "      <td>37.0</td>\n",
       "      <td>121.5</td>\n",
       "      <td>80.67</td>\n",
       "      <td>62.0</td>\n",
       "      <td>18.0</td>\n",
       "      <td>33.0</td>\n",
       "      <td>0.0</td>\n",
       "      <td>24.0</td>\n",
       "      <td>...</td>\n",
       "      <td>251.0</td>\n",
       "      <td>179.0</td>\n",
       "      <td>83.14</td>\n",
       "      <td>0</td>\n",
       "      <td>NaN</td>\n",
       "      <td>NaN</td>\n",
       "      <td>-0.03</td>\n",
       "      <td>1</td>\n",
       "      <td>0</td>\n",
       "      <td>1</td>\n",
       "    </tr>\n",
       "    <tr>\n",
       "      <th>1</th>\n",
       "      <td>97.0</td>\n",
       "      <td>95.0</td>\n",
       "      <td>37.0</td>\n",
       "      <td>98.0</td>\n",
       "      <td>75.33</td>\n",
       "      <td>62.0</td>\n",
       "      <td>19.0</td>\n",
       "      <td>33.0</td>\n",
       "      <td>0.0</td>\n",
       "      <td>24.0</td>\n",
       "      <td>...</td>\n",
       "      <td>251.0</td>\n",
       "      <td>179.0</td>\n",
       "      <td>83.14</td>\n",
       "      <td>0</td>\n",
       "      <td>NaN</td>\n",
       "      <td>NaN</td>\n",
       "      <td>-0.03</td>\n",
       "      <td>2</td>\n",
       "      <td>0</td>\n",
       "      <td>1</td>\n",
       "    </tr>\n",
       "    <tr>\n",
       "      <th>2</th>\n",
       "      <td>89.0</td>\n",
       "      <td>99.0</td>\n",
       "      <td>37.0</td>\n",
       "      <td>122.0</td>\n",
       "      <td>86.00</td>\n",
       "      <td>62.0</td>\n",
       "      <td>22.0</td>\n",
       "      <td>33.0</td>\n",
       "      <td>0.0</td>\n",
       "      <td>24.0</td>\n",
       "      <td>...</td>\n",
       "      <td>251.0</td>\n",
       "      <td>179.0</td>\n",
       "      <td>83.14</td>\n",
       "      <td>0</td>\n",
       "      <td>NaN</td>\n",
       "      <td>NaN</td>\n",
       "      <td>-0.03</td>\n",
       "      <td>3</td>\n",
       "      <td>0</td>\n",
       "      <td>1</td>\n",
       "    </tr>\n",
       "    <tr>\n",
       "      <th>3</th>\n",
       "      <td>90.0</td>\n",
       "      <td>95.0</td>\n",
       "      <td>37.0</td>\n",
       "      <td>122.0</td>\n",
       "      <td>86.00</td>\n",
       "      <td>62.0</td>\n",
       "      <td>30.0</td>\n",
       "      <td>33.0</td>\n",
       "      <td>24.0</td>\n",
       "      <td>24.0</td>\n",
       "      <td>...</td>\n",
       "      <td>251.0</td>\n",
       "      <td>179.0</td>\n",
       "      <td>83.14</td>\n",
       "      <td>0</td>\n",
       "      <td>NaN</td>\n",
       "      <td>NaN</td>\n",
       "      <td>-0.03</td>\n",
       "      <td>4</td>\n",
       "      <td>0</td>\n",
       "      <td>1</td>\n",
       "    </tr>\n",
       "    <tr>\n",
       "      <th>4</th>\n",
       "      <td>103.0</td>\n",
       "      <td>88.5</td>\n",
       "      <td>37.0</td>\n",
       "      <td>122.0</td>\n",
       "      <td>91.33</td>\n",
       "      <td>62.0</td>\n",
       "      <td>24.5</td>\n",
       "      <td>33.0</td>\n",
       "      <td>24.0</td>\n",
       "      <td>24.0</td>\n",
       "      <td>...</td>\n",
       "      <td>251.0</td>\n",
       "      <td>179.0</td>\n",
       "      <td>83.14</td>\n",
       "      <td>0</td>\n",
       "      <td>NaN</td>\n",
       "      <td>NaN</td>\n",
       "      <td>-0.03</td>\n",
       "      <td>5</td>\n",
       "      <td>0</td>\n",
       "      <td>1</td>\n",
       "    </tr>\n",
       "    <tr>\n",
       "      <th>...</th>\n",
       "      <td>...</td>\n",
       "      <td>...</td>\n",
       "      <td>...</td>\n",
       "      <td>...</td>\n",
       "      <td>...</td>\n",
       "      <td>...</td>\n",
       "      <td>...</td>\n",
       "      <td>...</td>\n",
       "      <td>...</td>\n",
       "      <td>...</td>\n",
       "      <td>...</td>\n",
       "      <td>...</td>\n",
       "      <td>...</td>\n",
       "      <td>...</td>\n",
       "      <td>...</td>\n",
       "      <td>...</td>\n",
       "      <td>...</td>\n",
       "      <td>...</td>\n",
       "      <td>...</td>\n",
       "      <td>...</td>\n",
       "      <td>...</td>\n",
       "    </tr>\n",
       "    <tr>\n",
       "      <th>883750</th>\n",
       "      <td>80.0</td>\n",
       "      <td>96.0</td>\n",
       "      <td>36.4</td>\n",
       "      <td>115.0</td>\n",
       "      <td>87.00</td>\n",
       "      <td>65.0</td>\n",
       "      <td>15.0</td>\n",
       "      <td>33.0</td>\n",
       "      <td>0.0</td>\n",
       "      <td>24.0</td>\n",
       "      <td>...</td>\n",
       "      <td>251.0</td>\n",
       "      <td>216.0</td>\n",
       "      <td>62.00</td>\n",
       "      <td>0</td>\n",
       "      <td>NaN</td>\n",
       "      <td>NaN</td>\n",
       "      <td>0.00</td>\n",
       "      <td>31</td>\n",
       "      <td>0</td>\n",
       "      <td>120000</td>\n",
       "    </tr>\n",
       "    <tr>\n",
       "      <th>883751</th>\n",
       "      <td>74.0</td>\n",
       "      <td>97.0</td>\n",
       "      <td>36.4</td>\n",
       "      <td>114.0</td>\n",
       "      <td>83.00</td>\n",
       "      <td>67.0</td>\n",
       "      <td>15.0</td>\n",
       "      <td>33.0</td>\n",
       "      <td>0.0</td>\n",
       "      <td>24.0</td>\n",
       "      <td>...</td>\n",
       "      <td>251.0</td>\n",
       "      <td>216.0</td>\n",
       "      <td>62.00</td>\n",
       "      <td>0</td>\n",
       "      <td>NaN</td>\n",
       "      <td>NaN</td>\n",
       "      <td>0.00</td>\n",
       "      <td>32</td>\n",
       "      <td>0</td>\n",
       "      <td>120000</td>\n",
       "    </tr>\n",
       "    <tr>\n",
       "      <th>883752</th>\n",
       "      <td>78.0</td>\n",
       "      <td>98.0</td>\n",
       "      <td>36.4</td>\n",
       "      <td>110.0</td>\n",
       "      <td>83.00</td>\n",
       "      <td>69.0</td>\n",
       "      <td>15.0</td>\n",
       "      <td>33.0</td>\n",
       "      <td>0.0</td>\n",
       "      <td>24.0</td>\n",
       "      <td>...</td>\n",
       "      <td>251.0</td>\n",
       "      <td>216.0</td>\n",
       "      <td>62.00</td>\n",
       "      <td>0</td>\n",
       "      <td>NaN</td>\n",
       "      <td>NaN</td>\n",
       "      <td>0.00</td>\n",
       "      <td>33</td>\n",
       "      <td>0</td>\n",
       "      <td>120000</td>\n",
       "    </tr>\n",
       "    <tr>\n",
       "      <th>883753</th>\n",
       "      <td>82.0</td>\n",
       "      <td>99.0</td>\n",
       "      <td>36.6</td>\n",
       "      <td>124.0</td>\n",
       "      <td>91.00</td>\n",
       "      <td>71.0</td>\n",
       "      <td>16.0</td>\n",
       "      <td>33.0</td>\n",
       "      <td>0.0</td>\n",
       "      <td>24.0</td>\n",
       "      <td>...</td>\n",
       "      <td>251.0</td>\n",
       "      <td>216.0</td>\n",
       "      <td>62.00</td>\n",
       "      <td>0</td>\n",
       "      <td>NaN</td>\n",
       "      <td>NaN</td>\n",
       "      <td>0.00</td>\n",
       "      <td>34</td>\n",
       "      <td>0</td>\n",
       "      <td>120000</td>\n",
       "    </tr>\n",
       "    <tr>\n",
       "      <th>883754</th>\n",
       "      <td>80.0</td>\n",
       "      <td>97.0</td>\n",
       "      <td>36.6</td>\n",
       "      <td>121.0</td>\n",
       "      <td>97.00</td>\n",
       "      <td>73.0</td>\n",
       "      <td>15.0</td>\n",
       "      <td>33.0</td>\n",
       "      <td>0.0</td>\n",
       "      <td>24.0</td>\n",
       "      <td>...</td>\n",
       "      <td>251.0</td>\n",
       "      <td>216.0</td>\n",
       "      <td>62.00</td>\n",
       "      <td>0</td>\n",
       "      <td>NaN</td>\n",
       "      <td>NaN</td>\n",
       "      <td>0.00</td>\n",
       "      <td>35</td>\n",
       "      <td>0</td>\n",
       "      <td>120000</td>\n",
       "    </tr>\n",
       "  </tbody>\n",
       "</table>\n",
       "<p>883755 rows × 42 columns</p>\n",
       "</div>"
      ],
      "text/plain": [
       "           HR  O2Sat  Temp    SBP    MAP   DBP  Resp  EtCO2  BaseExcess  HCO3  \\\n",
       "0        84.0   98.0  37.0  121.5  80.67  62.0  18.0   33.0         0.0  24.0   \n",
       "1        97.0   95.0  37.0   98.0  75.33  62.0  19.0   33.0         0.0  24.0   \n",
       "2        89.0   99.0  37.0  122.0  86.00  62.0  22.0   33.0         0.0  24.0   \n",
       "3        90.0   95.0  37.0  122.0  86.00  62.0  30.0   33.0        24.0  24.0   \n",
       "4       103.0   88.5  37.0  122.0  91.33  62.0  24.5   33.0        24.0  24.0   \n",
       "...       ...    ...   ...    ...    ...   ...   ...    ...         ...   ...   \n",
       "883750   80.0   96.0  36.4  115.0  87.00  65.0  15.0   33.0         0.0  24.0   \n",
       "883751   74.0   97.0  36.4  114.0  83.00  67.0  15.0   33.0         0.0  24.0   \n",
       "883752   78.0   98.0  36.4  110.0  83.00  69.0  15.0   33.0         0.0  24.0   \n",
       "883753   82.0   99.0  36.6  124.0  91.00  71.0  16.0   33.0         0.0  24.0   \n",
       "883754   80.0   97.0  36.6  121.0  97.00  73.0  15.0   33.0         0.0  24.0   \n",
       "\n",
       "        ...  Fibrinogen  Platelets    Age  Gender  Unit1  Unit2  HospAdmTime  \\\n",
       "0       ...       251.0      179.0  83.14       0    NaN    NaN        -0.03   \n",
       "1       ...       251.0      179.0  83.14       0    NaN    NaN        -0.03   \n",
       "2       ...       251.0      179.0  83.14       0    NaN    NaN        -0.03   \n",
       "3       ...       251.0      179.0  83.14       0    NaN    NaN        -0.03   \n",
       "4       ...       251.0      179.0  83.14       0    NaN    NaN        -0.03   \n",
       "...     ...         ...        ...    ...     ...    ...    ...          ...   \n",
       "883750  ...       251.0      216.0  62.00       0    NaN    NaN         0.00   \n",
       "883751  ...       251.0      216.0  62.00       0    NaN    NaN         0.00   \n",
       "883752  ...       251.0      216.0  62.00       0    NaN    NaN         0.00   \n",
       "883753  ...       251.0      216.0  62.00       0    NaN    NaN         0.00   \n",
       "883754  ...       251.0      216.0  62.00       0    NaN    NaN         0.00   \n",
       "\n",
       "        ICULOS  SepsisLabel     pid  \n",
       "0            1            0       1  \n",
       "1            2            0       1  \n",
       "2            3            0       1  \n",
       "3            4            0       1  \n",
       "4            5            0       1  \n",
       "...        ...          ...     ...  \n",
       "883750      31            0  120000  \n",
       "883751      32            0  120000  \n",
       "883752      33            0  120000  \n",
       "883753      34            0  120000  \n",
       "883754      35            0  120000  \n",
       "\n",
       "[883755 rows x 42 columns]"
      ]
     },
     "execution_count": 78,
     "metadata": {},
     "output_type": "execute_result"
    }
   ],
   "source": [
    "train_df"
   ]
  },
  {
   "cell_type": "code",
   "execution_count": 109,
   "id": "fc1557b0",
   "metadata": {
    "ExecuteTime": {
     "end_time": "2023-02-20T08:42:30.913022Z",
     "start_time": "2023-02-20T08:42:30.688621Z"
    }
   },
   "outputs": [
    {
     "data": {
      "text/html": [
       "<div>\n",
       "<style scoped>\n",
       "    .dataframe tbody tr th:only-of-type {\n",
       "        vertical-align: middle;\n",
       "    }\n",
       "\n",
       "    .dataframe tbody tr th {\n",
       "        vertical-align: top;\n",
       "    }\n",
       "\n",
       "    .dataframe thead th {\n",
       "        text-align: right;\n",
       "    }\n",
       "</style>\n",
       "<table border=\"1\" class=\"dataframe\">\n",
       "  <thead>\n",
       "    <tr style=\"text-align: right;\">\n",
       "      <th></th>\n",
       "      <th>HR</th>\n",
       "      <th>O2Sat</th>\n",
       "      <th>Temp</th>\n",
       "      <th>SBP</th>\n",
       "      <th>MAP</th>\n",
       "      <th>DBP</th>\n",
       "      <th>Resp</th>\n",
       "      <th>EtCO2</th>\n",
       "      <th>BaseExcess</th>\n",
       "      <th>HCO3</th>\n",
       "      <th>...</th>\n",
       "      <th>Age</th>\n",
       "      <th>Gender</th>\n",
       "      <th>Unit1</th>\n",
       "      <th>Unit2</th>\n",
       "      <th>HospAdmTime</th>\n",
       "      <th>ICULOS</th>\n",
       "      <th>SepsisLabel</th>\n",
       "      <th>pid</th>\n",
       "      <th>SaO2/FiO2</th>\n",
       "      <th>SOFA</th>\n",
       "    </tr>\n",
       "  </thead>\n",
       "  <tbody>\n",
       "    <tr>\n",
       "      <th>0</th>\n",
       "      <td>84.0</td>\n",
       "      <td>98.0</td>\n",
       "      <td>37.00</td>\n",
       "      <td>121.5</td>\n",
       "      <td>80.67</td>\n",
       "      <td>62.0</td>\n",
       "      <td>18.0</td>\n",
       "      <td>33.0</td>\n",
       "      <td>0.0</td>\n",
       "      <td>24.0</td>\n",
       "      <td>...</td>\n",
       "      <td>65.71</td>\n",
       "      <td>0</td>\n",
       "      <td>0.0</td>\n",
       "      <td>1.0</td>\n",
       "      <td>-8.77</td>\n",
       "      <td>1</td>\n",
       "      <td>0</td>\n",
       "      <td>4</td>\n",
       "      <td>194.0</td>\n",
       "      <td>13</td>\n",
       "    </tr>\n",
       "    <tr>\n",
       "      <th>1</th>\n",
       "      <td>103.5</td>\n",
       "      <td>97.0</td>\n",
       "      <td>37.00</td>\n",
       "      <td>107.5</td>\n",
       "      <td>70.50</td>\n",
       "      <td>52.0</td>\n",
       "      <td>18.0</td>\n",
       "      <td>33.0</td>\n",
       "      <td>0.0</td>\n",
       "      <td>22.0</td>\n",
       "      <td>...</td>\n",
       "      <td>65.71</td>\n",
       "      <td>0</td>\n",
       "      <td>0.0</td>\n",
       "      <td>1.0</td>\n",
       "      <td>-8.77</td>\n",
       "      <td>2</td>\n",
       "      <td>0</td>\n",
       "      <td>4</td>\n",
       "      <td>194.0</td>\n",
       "      <td>13</td>\n",
       "    </tr>\n",
       "    <tr>\n",
       "      <th>2</th>\n",
       "      <td>108.0</td>\n",
       "      <td>98.5</td>\n",
       "      <td>36.78</td>\n",
       "      <td>124.5</td>\n",
       "      <td>82.00</td>\n",
       "      <td>61.5</td>\n",
       "      <td>19.5</td>\n",
       "      <td>33.0</td>\n",
       "      <td>0.0</td>\n",
       "      <td>22.0</td>\n",
       "      <td>...</td>\n",
       "      <td>65.71</td>\n",
       "      <td>0</td>\n",
       "      <td>0.0</td>\n",
       "      <td>1.0</td>\n",
       "      <td>-8.77</td>\n",
       "      <td>3</td>\n",
       "      <td>0</td>\n",
       "      <td>4</td>\n",
       "      <td>196.0</td>\n",
       "      <td>13</td>\n",
       "    </tr>\n",
       "    <tr>\n",
       "      <th>3</th>\n",
       "      <td>107.5</td>\n",
       "      <td>96.5</td>\n",
       "      <td>36.78</td>\n",
       "      <td>117.5</td>\n",
       "      <td>77.50</td>\n",
       "      <td>58.5</td>\n",
       "      <td>17.0</td>\n",
       "      <td>33.0</td>\n",
       "      <td>0.0</td>\n",
       "      <td>22.0</td>\n",
       "      <td>...</td>\n",
       "      <td>65.71</td>\n",
       "      <td>0</td>\n",
       "      <td>0.0</td>\n",
       "      <td>1.0</td>\n",
       "      <td>-8.77</td>\n",
       "      <td>4</td>\n",
       "      <td>0</td>\n",
       "      <td>4</td>\n",
       "      <td>196.0</td>\n",
       "      <td>13</td>\n",
       "    </tr>\n",
       "    <tr>\n",
       "      <th>4</th>\n",
       "      <td>113.0</td>\n",
       "      <td>100.0</td>\n",
       "      <td>36.78</td>\n",
       "      <td>125.0</td>\n",
       "      <td>80.00</td>\n",
       "      <td>61.0</td>\n",
       "      <td>26.0</td>\n",
       "      <td>33.0</td>\n",
       "      <td>0.0</td>\n",
       "      <td>22.0</td>\n",
       "      <td>...</td>\n",
       "      <td>65.71</td>\n",
       "      <td>0</td>\n",
       "      <td>0.0</td>\n",
       "      <td>1.0</td>\n",
       "      <td>-8.77</td>\n",
       "      <td>5</td>\n",
       "      <td>0</td>\n",
       "      <td>4</td>\n",
       "      <td>196.0</td>\n",
       "      <td>13</td>\n",
       "    </tr>\n",
       "    <tr>\n",
       "      <th>...</th>\n",
       "      <td>...</td>\n",
       "      <td>...</td>\n",
       "      <td>...</td>\n",
       "      <td>...</td>\n",
       "      <td>...</td>\n",
       "      <td>...</td>\n",
       "      <td>...</td>\n",
       "      <td>...</td>\n",
       "      <td>...</td>\n",
       "      <td>...</td>\n",
       "      <td>...</td>\n",
       "      <td>...</td>\n",
       "      <td>...</td>\n",
       "      <td>...</td>\n",
       "      <td>...</td>\n",
       "      <td>...</td>\n",
       "      <td>...</td>\n",
       "      <td>...</td>\n",
       "      <td>...</td>\n",
       "      <td>...</td>\n",
       "      <td>...</td>\n",
       "    </tr>\n",
       "    <tr>\n",
       "      <th>668450</th>\n",
       "      <td>88.0</td>\n",
       "      <td>95.0</td>\n",
       "      <td>37.20</td>\n",
       "      <td>145.0</td>\n",
       "      <td>99.00</td>\n",
       "      <td>78.0</td>\n",
       "      <td>21.0</td>\n",
       "      <td>33.0</td>\n",
       "      <td>0.0</td>\n",
       "      <td>24.0</td>\n",
       "      <td>...</td>\n",
       "      <td>84.00</td>\n",
       "      <td>0</td>\n",
       "      <td>1.0</td>\n",
       "      <td>0.0</td>\n",
       "      <td>-10.74</td>\n",
       "      <td>16</td>\n",
       "      <td>0</td>\n",
       "      <td>119999</td>\n",
       "      <td>194.0</td>\n",
       "      <td>13</td>\n",
       "    </tr>\n",
       "    <tr>\n",
       "      <th>668451</th>\n",
       "      <td>87.0</td>\n",
       "      <td>89.0</td>\n",
       "      <td>37.20</td>\n",
       "      <td>164.0</td>\n",
       "      <td>114.00</td>\n",
       "      <td>81.0</td>\n",
       "      <td>23.0</td>\n",
       "      <td>33.0</td>\n",
       "      <td>0.0</td>\n",
       "      <td>24.0</td>\n",
       "      <td>...</td>\n",
       "      <td>84.00</td>\n",
       "      <td>0</td>\n",
       "      <td>1.0</td>\n",
       "      <td>0.0</td>\n",
       "      <td>-10.74</td>\n",
       "      <td>17</td>\n",
       "      <td>0</td>\n",
       "      <td>119999</td>\n",
       "      <td>194.0</td>\n",
       "      <td>13</td>\n",
       "    </tr>\n",
       "    <tr>\n",
       "      <th>668452</th>\n",
       "      <td>88.0</td>\n",
       "      <td>96.0</td>\n",
       "      <td>37.20</td>\n",
       "      <td>155.0</td>\n",
       "      <td>111.00</td>\n",
       "      <td>82.0</td>\n",
       "      <td>22.0</td>\n",
       "      <td>33.0</td>\n",
       "      <td>0.0</td>\n",
       "      <td>24.0</td>\n",
       "      <td>...</td>\n",
       "      <td>84.00</td>\n",
       "      <td>0</td>\n",
       "      <td>1.0</td>\n",
       "      <td>0.0</td>\n",
       "      <td>-10.74</td>\n",
       "      <td>18</td>\n",
       "      <td>0</td>\n",
       "      <td>119999</td>\n",
       "      <td>194.0</td>\n",
       "      <td>13</td>\n",
       "    </tr>\n",
       "    <tr>\n",
       "      <th>668453</th>\n",
       "      <td>88.0</td>\n",
       "      <td>96.0</td>\n",
       "      <td>37.20</td>\n",
       "      <td>155.0</td>\n",
       "      <td>111.00</td>\n",
       "      <td>82.0</td>\n",
       "      <td>22.0</td>\n",
       "      <td>33.0</td>\n",
       "      <td>0.0</td>\n",
       "      <td>24.0</td>\n",
       "      <td>...</td>\n",
       "      <td>84.00</td>\n",
       "      <td>0</td>\n",
       "      <td>1.0</td>\n",
       "      <td>0.0</td>\n",
       "      <td>-10.74</td>\n",
       "      <td>19</td>\n",
       "      <td>0</td>\n",
       "      <td>119999</td>\n",
       "      <td>194.0</td>\n",
       "      <td>13</td>\n",
       "    </tr>\n",
       "    <tr>\n",
       "      <th>668454</th>\n",
       "      <td>89.0</td>\n",
       "      <td>96.0</td>\n",
       "      <td>37.90</td>\n",
       "      <td>155.0</td>\n",
       "      <td>109.00</td>\n",
       "      <td>78.5</td>\n",
       "      <td>19.0</td>\n",
       "      <td>33.0</td>\n",
       "      <td>0.0</td>\n",
       "      <td>24.0</td>\n",
       "      <td>...</td>\n",
       "      <td>84.00</td>\n",
       "      <td>0</td>\n",
       "      <td>1.0</td>\n",
       "      <td>0.0</td>\n",
       "      <td>-10.74</td>\n",
       "      <td>20</td>\n",
       "      <td>0</td>\n",
       "      <td>119999</td>\n",
       "      <td>194.0</td>\n",
       "      <td>13</td>\n",
       "    </tr>\n",
       "  </tbody>\n",
       "</table>\n",
       "<p>668455 rows × 44 columns</p>\n",
       "</div>"
      ],
      "text/plain": [
       "           HR  O2Sat   Temp    SBP     MAP   DBP  Resp  EtCO2  BaseExcess  \\\n",
       "0        84.0   98.0  37.00  121.5   80.67  62.0  18.0   33.0         0.0   \n",
       "1       103.5   97.0  37.00  107.5   70.50  52.0  18.0   33.0         0.0   \n",
       "2       108.0   98.5  36.78  124.5   82.00  61.5  19.5   33.0         0.0   \n",
       "3       107.5   96.5  36.78  117.5   77.50  58.5  17.0   33.0         0.0   \n",
       "4       113.0  100.0  36.78  125.0   80.00  61.0  26.0   33.0         0.0   \n",
       "...       ...    ...    ...    ...     ...   ...   ...    ...         ...   \n",
       "668450   88.0   95.0  37.20  145.0   99.00  78.0  21.0   33.0         0.0   \n",
       "668451   87.0   89.0  37.20  164.0  114.00  81.0  23.0   33.0         0.0   \n",
       "668452   88.0   96.0  37.20  155.0  111.00  82.0  22.0   33.0         0.0   \n",
       "668453   88.0   96.0  37.20  155.0  111.00  82.0  22.0   33.0         0.0   \n",
       "668454   89.0   96.0  37.90  155.0  109.00  78.5  19.0   33.0         0.0   \n",
       "\n",
       "        HCO3  ...    Age  Gender  Unit1  Unit2  HospAdmTime  ICULOS  \\\n",
       "0       24.0  ...  65.71       0    0.0    1.0        -8.77       1   \n",
       "1       22.0  ...  65.71       0    0.0    1.0        -8.77       2   \n",
       "2       22.0  ...  65.71       0    0.0    1.0        -8.77       3   \n",
       "3       22.0  ...  65.71       0    0.0    1.0        -8.77       4   \n",
       "4       22.0  ...  65.71       0    0.0    1.0        -8.77       5   \n",
       "...      ...  ...    ...     ...    ...    ...          ...     ...   \n",
       "668450  24.0  ...  84.00       0    1.0    0.0       -10.74      16   \n",
       "668451  24.0  ...  84.00       0    1.0    0.0       -10.74      17   \n",
       "668452  24.0  ...  84.00       0    1.0    0.0       -10.74      18   \n",
       "668453  24.0  ...  84.00       0    1.0    0.0       -10.74      19   \n",
       "668454  24.0  ...  84.00       0    1.0    0.0       -10.74      20   \n",
       "\n",
       "        SepsisLabel     pid  SaO2/FiO2  SOFA  \n",
       "0                 0       4      194.0    13  \n",
       "1                 0       4      194.0    13  \n",
       "2                 0       4      196.0    13  \n",
       "3                 0       4      196.0    13  \n",
       "4                 0       4      196.0    13  \n",
       "...             ...     ...        ...   ...  \n",
       "668450            0  119999      194.0    13  \n",
       "668451            0  119999      194.0    13  \n",
       "668452            0  119999      194.0    13  \n",
       "668453            0  119999      194.0    13  \n",
       "668454            0  119999      194.0    13  \n",
       "\n",
       "[668455 rows x 44 columns]"
      ]
     },
     "execution_count": 109,
     "metadata": {},
     "output_type": "execute_result"
    }
   ],
   "source": [
    "test_df"
   ]
  },
  {
   "cell_type": "code",
   "execution_count": 9,
   "id": "e9cde1ae",
   "metadata": {
    "ExecuteTime": {
     "end_time": "2023-02-20T03:08:16.907097Z",
     "start_time": "2023-02-20T03:08:16.725686Z"
    },
    "scrolled": false
   },
   "outputs": [
    {
     "data": {
      "text/plain": [
       "pid              9\n",
       "ICULOS         241\n",
       "SepsisLabel      0\n",
       "Name: 240, dtype: int64"
      ]
     },
     "execution_count": 9,
     "metadata": {},
     "output_type": "execute_result"
    }
   ],
   "source": [
    "dfA.query('pid==9')[['pid','ICULOS','SepsisLabel']].loc[240]"
   ]
  },
  {
   "cell_type": "code",
   "execution_count": 10,
   "id": "cc6f2ebd",
   "metadata": {
    "ExecuteTime": {
     "end_time": "2023-02-20T03:08:16.915870Z",
     "start_time": "2023-02-20T03:08:16.910113Z"
    }
   },
   "outputs": [
    {
     "ename": "SyntaxError",
     "evalue": "invalid syntax (3428668763.py, line 2)",
     "output_type": "error",
     "traceback": [
      "\u001b[1;36m  File \u001b[1;32m\"C:\\Users\\smhrd\\AppData\\Local\\Temp\\ipykernel_13400\\3428668763.py\"\u001b[1;36m, line \u001b[1;32m2\u001b[0m\n\u001b[1;33m    할일 : train_df에서 batch_size = 128만큼 length=30 seq 데이터를 추출해와서 배치 만들어서 모델에 집어넣기\u001b[0m\n\u001b[1;37m                    ^\u001b[0m\n\u001b[1;31mSyntaxError\u001b[0m\u001b[1;31m:\u001b[0m invalid syntax\n"
     ]
    }
   ],
   "source": [
    "...\n",
    "할일 : train_df에서 batch_size = 128만큼 length=30 seq 데이터를 추출해와서 배치 만들어서 모델에 집어넣기\n",
    "..."
   ]
  },
  {
   "cell_type": "code",
   "execution_count": null,
   "id": "2fe6e2b3",
   "metadata": {
    "ExecuteTime": {
     "end_time": "2023-02-20T03:08:16.915870Z",
     "start_time": "2023-02-20T03:08:16.915870Z"
    }
   },
   "outputs": [],
   "source": [
    "def windowed_dataset(series, window_size, batch_size, shuffle):\n",
    "    series = tf.expand_dims(series, axis=-1)\n",
    "    ds = tf.data.Dataset.from_tensor_slices(series)\n",
    "    ds = ds.window(window_size + 1, shift=1, drop_remainder=True)\n",
    "    ds = ds.flat_map(lambda w: w.batch(window_size + 1))\n",
    "    if shuffle:\n",
    "        ds = ds.shuffle(1000)\n",
    "    ds = ds.map(lambda w: (w[:-1], w[-1]))\n",
    "    return ds.batch(batch_size).prefetch(1)"
   ]
  },
  {
   "cell_type": "code",
   "execution_count": 11,
   "id": "267e4fdc",
   "metadata": {
    "ExecuteTime": {
     "end_time": "2023-02-20T03:08:36.497591Z",
     "start_time": "2023-02-20T03:08:36.487924Z"
    }
   },
   "outputs": [
    {
     "data": {
      "text/plain": [
       "Index(['HR', 'O2Sat', 'Temp', 'SBP', 'MAP', 'DBP', 'Resp', 'EtCO2',\n",
       "       'BaseExcess', 'HCO3', 'FiO2', 'pH', 'PaCO2', 'SaO2', 'AST', 'BUN',\n",
       "       'Alkalinephos', 'Calcium', 'Chloride', 'Creatinine', 'Bilirubin_direct',\n",
       "       'Glucose', 'Lactate', 'Magnesium', 'Phosphate', 'Potassium',\n",
       "       'Bilirubin_total', 'TroponinI', 'Hct', 'Hgb', 'PTT', 'WBC',\n",
       "       'Fibrinogen', 'Platelets', 'Age', 'Gender', 'Unit1', 'Unit2',\n",
       "       'HospAdmTime', 'ICULOS', 'SepsisLabel', 'pid'],\n",
       "      dtype='object')"
      ]
     },
     "execution_count": 11,
     "metadata": {},
     "output_type": "execute_result"
    }
   ],
   "source": [
    "train_df.columns"
   ]
  },
  {
   "cell_type": "code",
   "execution_count": 121,
   "id": "47964187",
   "metadata": {
    "ExecuteTime": {
     "end_time": "2023-02-20T08:48:51.497218Z",
     "start_time": "2023-02-20T08:48:51.484236Z"
    }
   },
   "outputs": [],
   "source": [
    "train_df['PaO2/FiO2']= train_df['SaO2'] / train_df['FiO2']"
   ]
  },
  {
   "cell_type": "code",
   "execution_count": 80,
   "id": "218c22ec",
   "metadata": {
    "ExecuteTime": {
     "end_time": "2023-02-20T07:46:42.778821Z",
     "start_time": "2023-02-20T07:46:42.764850Z"
    }
   },
   "outputs": [
    {
     "data": {
      "text/plain": [
       "0         194.000000\n",
       "1         194.000000\n",
       "2         194.000000\n",
       "3         194.000000\n",
       "4         346.428571\n",
       "             ...    \n",
       "883750    194.000000\n",
       "883751    194.000000\n",
       "883752    194.000000\n",
       "883753    194.000000\n",
       "883754    194.000000\n",
       "Name: PaO2/FiO2, Length: 883755, dtype: float64"
      ]
     },
     "execution_count": 80,
     "metadata": {},
     "output_type": "execute_result"
    }
   ],
   "source": [
    "train_df['PaO2/FiO2']"
   ]
  },
  {
   "cell_type": "code",
   "execution_count": 120,
   "id": "8652da54",
   "metadata": {
    "ExecuteTime": {
     "end_time": "2023-02-20T08:48:47.019090Z",
     "start_time": "2023-02-20T08:48:46.948843Z"
    }
   },
   "outputs": [],
   "source": [
    "test_df['SaO2/FiO2']= test_df['SaO2'] / test_df['FiO2']"
   ]
  },
  {
   "cell_type": "code",
   "execution_count": 125,
   "id": "cef21186",
   "metadata": {
    "ExecuteTime": {
     "end_time": "2023-02-21T00:33:58.867655Z",
     "start_time": "2023-02-21T00:33:58.852226Z"
    }
   },
   "outputs": [
    {
     "data": {
      "text/plain": [
       "0         194.0\n",
       "1         194.0\n",
       "2         196.0\n",
       "3         196.0\n",
       "4         196.0\n",
       "          ...  \n",
       "668450    194.0\n",
       "668451    194.0\n",
       "668452    194.0\n",
       "668453    194.0\n",
       "668454    194.0\n",
       "Name: SaO2/FiO2, Length: 668455, dtype: float64"
      ]
     },
     "execution_count": 125,
     "metadata": {},
     "output_type": "execute_result"
    }
   ],
   "source": [
    "test_df['SaO2/FiO2']"
   ]
  },
  {
   "cell_type": "code",
   "execution_count": 16,
   "id": "e9bc1d40",
   "metadata": {
    "ExecuteTime": {
     "end_time": "2023-02-20T03:08:40.659205Z",
     "start_time": "2023-02-20T03:08:40.649564Z"
    }
   },
   "outputs": [
    {
     "data": {
      "text/plain": [
       "Index(['HR', 'O2Sat', 'Temp', 'SBP', 'MAP', 'DBP', 'Resp', 'EtCO2',\n",
       "       'BaseExcess', 'HCO3', 'FiO2', 'pH', 'PaCO2', 'SaO2', 'AST', 'BUN',\n",
       "       'Alkalinephos', 'Calcium', 'Chloride', 'Creatinine', 'Bilirubin_direct',\n",
       "       'Glucose', 'Lactate', 'Magnesium', 'Phosphate', 'Potassium',\n",
       "       'Bilirubin_total', 'TroponinI', 'Hct', 'Hgb', 'PTT', 'WBC',\n",
       "       'Fibrinogen', 'Platelets', 'Age', 'Gender', 'Unit1', 'Unit2',\n",
       "       'HospAdmTime', 'ICULOS', 'SepsisLabel', 'pid', 'PaO2/FiO2'],\n",
       "      dtype='object')"
      ]
     },
     "execution_count": 16,
     "metadata": {},
     "output_type": "execute_result"
    }
   ],
   "source": [
    "train_df.columns"
   ]
  },
  {
   "cell_type": "code",
   "execution_count": 17,
   "id": "eae36ef7",
   "metadata": {
    "ExecuteTime": {
     "end_time": "2023-02-20T03:08:41.358791Z",
     "start_time": "2023-02-20T03:08:41.351784Z"
    }
   },
   "outputs": [
    {
     "data": {
      "text/plain": [
       "0         97.0\n",
       "1         97.0\n",
       "2         97.0\n",
       "3         97.0\n",
       "4         97.0\n",
       "          ... \n",
       "883459    97.0\n",
       "883460    97.0\n",
       "883461    97.0\n",
       "883462    97.0\n",
       "883463    97.0\n",
       "Name: SaO2, Length: 883464, dtype: float64"
      ]
     },
     "execution_count": 17,
     "metadata": {},
     "output_type": "execute_result"
    }
   ],
   "source": [
    "train_df['SaO2']"
   ]
  },
  {
   "cell_type": "code",
   "execution_count": 18,
   "id": "22e88e43",
   "metadata": {
    "ExecuteTime": {
     "end_time": "2023-02-20T03:08:42.323626Z",
     "start_time": "2023-02-20T03:08:42.313835Z"
    }
   },
   "outputs": [
    {
     "data": {
      "text/plain": [
       "0         0.5\n",
       "1         0.5\n",
       "2         0.5\n",
       "3         0.5\n",
       "4         0.5\n",
       "         ... \n",
       "883459    0.5\n",
       "883460    0.5\n",
       "883461    0.5\n",
       "883462    0.5\n",
       "883463    0.5\n",
       "Name: FiO2, Length: 883464, dtype: float64"
      ]
     },
     "execution_count": 18,
     "metadata": {},
     "output_type": "execute_result"
    }
   ],
   "source": [
    "train_df['FiO2']"
   ]
  },
  {
   "cell_type": "code",
   "execution_count": 127,
   "id": "056d4673",
   "metadata": {
    "ExecuteTime": {
     "end_time": "2023-02-21T00:36:07.335352Z",
     "start_time": "2023-02-21T00:36:07.319370Z"
    }
   },
   "outputs": [],
   "source": [
    "def get_SOFA(sofa_input) :\n",
    "    # ToDo : sofa계산\n",
    "    score = 0\n",
    "# Coagulation (Platelet count)\n",
    "    if sofa_input['Platelets'] < 20:\n",
    "        score += 4\n",
    "    elif 20 <= sofa_input['Platelets'] < 50:\n",
    "        score += 3\n",
    "    elif 50 <= sofa_input['Platelets'] < 100:\n",
    "        score += 2\n",
    "    elif 100 <= sofa_input['Platelets']:\n",
    "        score += 1\n",
    "\n",
    "    # Liver (Bilirubin level)\n",
    "    if 12 < sofa_input['Bilirubin_total']:\n",
    "        score += 4\n",
    "    elif 6 <= sofa_input['Bilirubin_total'] <= 12:\n",
    "        score += 3\n",
    "    elif 2 <= sofa_input['Bilirubin_total'] <= 6:\n",
    "        score += 2\n",
    "    elif sofa_input['Bilirubin_total'] <= 2:\n",
    "        score += 1\n",
    "    # Cardiovascular (Mean arterial pressure)\n",
    "    if sofa_input['MAP'] < 40:\n",
    "        score += 3\n",
    "    elif sofa_input['MAP'] < 50:\n",
    "        score += 2\n",
    "    elif sofa_input['MAP'] < 70:\n",
    "        score += 1\n",
    "\n",
    "    # Renal (Creatinine or urine output)\n",
    "    if 5 <= sofa_input['Creatinine'] :\n",
    "        score += 4\n",
    "    elif 3.5 <= sofa_input['Creatinine'] <= 4.9:\n",
    "        score += 3\n",
    "    elif 2 <= sofa_input['Creatinine'] <= 3.4:\n",
    "        score += 2"
   ]
  },
  {
   "cell_type": "code",
   "execution_count": 128,
   "id": "01ebd7b3",
   "metadata": {
    "ExecuteTime": {
     "end_time": "2023-02-21T00:41:45.173998Z",
     "start_time": "2023-02-21T00:36:23.508945Z"
    }
   },
   "outputs": [
    {
     "data": {
      "application/vnd.jupyter.widget-view+json": {
       "model_id": "d78440e5d609472081c52dd6a5663bea",
       "version_major": 2,
       "version_minor": 0
      },
      "text/plain": [
       "  0%|          | 0/668455 [00:00<?, ?it/s]"
      ]
     },
     "metadata": {},
     "output_type": "display_data"
    }
   ],
   "source": [
    "def get_SOFA(sofa_input) :\n",
    "    # ToDo : sofa계산\n",
    "    score = 0\n",
    "    # Respiration Rate\n",
    "#     if sofa_input['SaO2/FiO2'] < 100:\n",
    "#         score += 4\n",
    "#     elif 100 <= sofa_input['SaO2/FiO2'] < 200:\n",
    "#         score += 3\n",
    "#     elif 200 <= sofa_input['SaO2/FiO2'] < 300:\n",
    "#         score += 2\n",
    "#     elif 300 <= sofa_input['SaO2/FiO2'] < 400:\n",
    "#         score += 1\n",
    "\n",
    "    # Coagulation (Platelet count)\n",
    "    if sofa_input['Platelets'] < 20:\n",
    "        score += 4\n",
    "    elif 20 <= sofa_input['Platelets'] < 50:\n",
    "        score += 3\n",
    "    elif 50 <= sofa_input['Platelets'] < 100:\n",
    "        score += 2\n",
    "    elif 100 <= sofa_input['Platelets']:\n",
    "        score += 1\n",
    "\n",
    "    # Liver (Bilirubin level)\n",
    "    if 12 < sofa_input['Bilirubin_total']:\n",
    "        score += 4\n",
    "    elif 6 <= sofa_input['Bilirubin_total'] <= 12:\n",
    "        score += 3\n",
    "    elif 2 <= sofa_input['Bilirubin_total'] <= 6:\n",
    "        score += 2\n",
    "    elif sofa_input['Bilirubin_total'] <= 2:\n",
    "        score += 1\n",
    "    # Cardiovascular (Mean arterial pressure)\n",
    "    if sofa_input['MAP'] < 40:\n",
    "        score += 3\n",
    "    elif sofa_input['MAP'] < 50:\n",
    "        score += 2\n",
    "    elif sofa_input['MAP'] < 70:\n",
    "        score += 1\n",
    "\n",
    "    # Renal (Creatinine or urine output)\n",
    "    if 5 <= sofa_input['Creatinine'] :\n",
    "        score += 4\n",
    "    elif 3.5 <= sofa_input['Creatinine'] <= 4.9:\n",
    "        score += 3\n",
    "    elif 2 <= sofa_input['Creatinine'] <= 3.4:\n",
    "        score += 2\n",
    "        \n",
    "    return score\n",
    "\n",
    "test_df['SOFA'] = 0\n",
    "sofa_columns = ['Platelets', 'Bilirubin_total', 'MAP',  'Creatinine'] # SOFA에서 쓰는 컬럼 리스트\n",
    "sofa_scores = []\n",
    "for i in tqdm(test_df.index):\n",
    "    sofa_input = test_df.loc[i, sofa_columns]\n",
    "    sofa_scores.append(get_SOFA(sofa_input))\n",
    "test_df['SOFA'] = sofa_scores"
   ]
  },
  {
   "cell_type": "code",
   "execution_count": 129,
   "id": "e858f8ca",
   "metadata": {
    "ExecuteTime": {
     "end_time": "2023-02-21T00:42:44.395423Z",
     "start_time": "2023-02-21T00:42:44.374547Z"
    }
   },
   "outputs": [
    {
     "data": {
      "text/plain": [
       "194.000000    417771\n",
       "242.500000     44843\n",
       "196.000000     15026\n",
       "245.000000     12209\n",
       "97.000000       9953\n",
       "               ...  \n",
       "263.157895         1\n",
       "73.333333          1\n",
       "161.818182         1\n",
       "97.777778          1\n",
       "93.023256          1\n",
       "Name: SaO2/FiO2, Length: 1964, dtype: int64"
      ]
     },
     "execution_count": 129,
     "metadata": {},
     "output_type": "execute_result"
    }
   ],
   "source": [
    "test_df['SaO2/FiO2'].value_counts()"
   ]
  },
  {
   "cell_type": "code",
   "execution_count": 130,
   "id": "c5b9e01c",
   "metadata": {
    "ExecuteTime": {
     "end_time": "2023-02-21T00:42:46.663725Z",
     "start_time": "2023-02-21T00:42:46.612691Z"
    }
   },
   "outputs": [
    {
     "data": {
      "text/html": [
       "<div>\n",
       "<style scoped>\n",
       "    .dataframe tbody tr th:only-of-type {\n",
       "        vertical-align: middle;\n",
       "    }\n",
       "\n",
       "    .dataframe tbody tr th {\n",
       "        vertical-align: top;\n",
       "    }\n",
       "\n",
       "    .dataframe thead th {\n",
       "        text-align: right;\n",
       "    }\n",
       "</style>\n",
       "<table border=\"1\" class=\"dataframe\">\n",
       "  <thead>\n",
       "    <tr style=\"text-align: right;\">\n",
       "      <th></th>\n",
       "      <th>Platelets</th>\n",
       "      <th>Bilirubin_total</th>\n",
       "      <th>MAP</th>\n",
       "      <th>Creatinine</th>\n",
       "      <th>SOFA</th>\n",
       "    </tr>\n",
       "  </thead>\n",
       "  <tbody>\n",
       "    <tr>\n",
       "      <th>0</th>\n",
       "      <td>179.0</td>\n",
       "      <td>0.9</td>\n",
       "      <td>80.67</td>\n",
       "      <td>0.97</td>\n",
       "      <td>2</td>\n",
       "    </tr>\n",
       "    <tr>\n",
       "      <th>1</th>\n",
       "      <td>220.0</td>\n",
       "      <td>0.9</td>\n",
       "      <td>70.50</td>\n",
       "      <td>0.80</td>\n",
       "      <td>2</td>\n",
       "    </tr>\n",
       "    <tr>\n",
       "      <th>2</th>\n",
       "      <td>220.0</td>\n",
       "      <td>0.9</td>\n",
       "      <td>82.00</td>\n",
       "      <td>0.80</td>\n",
       "      <td>2</td>\n",
       "    </tr>\n",
       "    <tr>\n",
       "      <th>3</th>\n",
       "      <td>220.0</td>\n",
       "      <td>0.9</td>\n",
       "      <td>77.50</td>\n",
       "      <td>0.80</td>\n",
       "      <td>2</td>\n",
       "    </tr>\n",
       "    <tr>\n",
       "      <th>4</th>\n",
       "      <td>220.0</td>\n",
       "      <td>0.9</td>\n",
       "      <td>80.00</td>\n",
       "      <td>0.80</td>\n",
       "      <td>2</td>\n",
       "    </tr>\n",
       "    <tr>\n",
       "      <th>...</th>\n",
       "      <td>...</td>\n",
       "      <td>...</td>\n",
       "      <td>...</td>\n",
       "      <td>...</td>\n",
       "      <td>...</td>\n",
       "    </tr>\n",
       "    <tr>\n",
       "      <th>668450</th>\n",
       "      <td>272.0</td>\n",
       "      <td>1.1</td>\n",
       "      <td>99.00</td>\n",
       "      <td>1.04</td>\n",
       "      <td>2</td>\n",
       "    </tr>\n",
       "    <tr>\n",
       "      <th>668451</th>\n",
       "      <td>272.0</td>\n",
       "      <td>1.1</td>\n",
       "      <td>114.00</td>\n",
       "      <td>1.04</td>\n",
       "      <td>2</td>\n",
       "    </tr>\n",
       "    <tr>\n",
       "      <th>668452</th>\n",
       "      <td>272.0</td>\n",
       "      <td>1.1</td>\n",
       "      <td>111.00</td>\n",
       "      <td>1.04</td>\n",
       "      <td>2</td>\n",
       "    </tr>\n",
       "    <tr>\n",
       "      <th>668453</th>\n",
       "      <td>272.0</td>\n",
       "      <td>1.1</td>\n",
       "      <td>111.00</td>\n",
       "      <td>1.04</td>\n",
       "      <td>2</td>\n",
       "    </tr>\n",
       "    <tr>\n",
       "      <th>668454</th>\n",
       "      <td>272.0</td>\n",
       "      <td>1.1</td>\n",
       "      <td>109.00</td>\n",
       "      <td>1.04</td>\n",
       "      <td>2</td>\n",
       "    </tr>\n",
       "  </tbody>\n",
       "</table>\n",
       "<p>668455 rows × 5 columns</p>\n",
       "</div>"
      ],
      "text/plain": [
       "        Platelets  Bilirubin_total     MAP  Creatinine  SOFA\n",
       "0           179.0              0.9   80.67        0.97     2\n",
       "1           220.0              0.9   70.50        0.80     2\n",
       "2           220.0              0.9   82.00        0.80     2\n",
       "3           220.0              0.9   77.50        0.80     2\n",
       "4           220.0              0.9   80.00        0.80     2\n",
       "...           ...              ...     ...         ...   ...\n",
       "668450      272.0              1.1   99.00        1.04     2\n",
       "668451      272.0              1.1  114.00        1.04     2\n",
       "668452      272.0              1.1  111.00        1.04     2\n",
       "668453      272.0              1.1  111.00        1.04     2\n",
       "668454      272.0              1.1  109.00        1.04     2\n",
       "\n",
       "[668455 rows x 5 columns]"
      ]
     },
     "execution_count": 130,
     "metadata": {},
     "output_type": "execute_result"
    }
   ],
   "source": [
    "test_df[sofa_columns+['SOFA']]"
   ]
  },
  {
   "cell_type": "code",
   "execution_count": 131,
   "id": "cc91c211",
   "metadata": {
    "ExecuteTime": {
     "end_time": "2023-02-21T00:42:55.155739Z",
     "start_time": "2023-02-21T00:42:55.069727Z"
    }
   },
   "outputs": [
    {
     "data": {
      "text/plain": [
       "0.5"
      ]
     },
     "execution_count": 131,
     "metadata": {},
     "output_type": "execute_result"
    }
   ],
   "source": [
    "roc_auc_score(y_true, y_pred)"
   ]
  },
  {
   "cell_type": "code",
   "execution_count": null,
   "id": "c5924781",
   "metadata": {
    "ExecuteTime": {
     "end_time": "2023-02-20T03:08:16.933155Z",
     "start_time": "2023-02-20T03:08:16.933155Z"
    }
   },
   "outputs": [],
   "source": [
    "sofa_input"
   ]
  },
  {
   "cell_type": "code",
   "execution_count": 132,
   "id": "b5e9030b",
   "metadata": {
    "ExecuteTime": {
     "end_time": "2023-02-21T00:42:57.475516Z",
     "start_time": "2023-02-21T00:42:57.360532Z"
    }
   },
   "outputs": [
    {
     "name": "stdout",
     "output_type": "stream",
     "text": [
      "SOFA score AUROC: 0.5722462208248793\n"
     ]
    }
   ],
   "source": [
    "from sklearn.metrics import roc_auc_score\n",
    "\n",
    "# 실제 정답값과 예측한 SOFA score 값을 불러옵니다.\n",
    "y_true = test_df['SepsisLabel']\n",
    "y_pred = test_df['SOFA']\n",
    "\n",
    "# SOFA score에 대한 AUROC 값을 계산합니다.\n",
    "auroc = roc_auc_score(y_true, y_pred)\n",
    "print('SOFA score AUROC:', auroc)"
   ]
  },
  {
   "cell_type": "code",
   "execution_count": 133,
   "id": "81cc98eb",
   "metadata": {
    "ExecuteTime": {
     "end_time": "2023-02-21T00:42:59.470170Z",
     "start_time": "2023-02-21T00:42:59.324759Z"
    },
    "scrolled": false
   },
   "outputs": [
    {
     "data": {
      "image/png": "[encoded data removed]",
      "text/plain": [
       "<Figure size 640x480 with 1 Axes>"
      ]
     },
     "metadata": {},
     "output_type": "display_data"
    }
   ],
   "source": [
    "import matplotlib.pyplot as plt\n",
    "from sklearn.metrics import roc_curve, auc\n",
    "\n",
    "# actual values\n",
    "y_true = test_df['SepsisLabel'].values\n",
    "\n",
    "# predicted values\n",
    "y_pred = test_df['SOFA'].values\n",
    "\n",
    "# calculate fpr, tpr, thresholds\n",
    "fpr, tpr, thresholds = roc_curve(y_true, y_pred)\n",
    "\n",
    "# calculate AUROC score\n",
    "roc_auc = auc(fpr, tpr)\n",
    "\n",
    "# plot ROC curve\n",
    "plt.plot(fpr, tpr, color='darkorange', label='AUROC = %0.2f' % roc_auc)\n",
    "plt.plot([0, 1], [0, 1], color='navy', linestyle='--')\n",
    "plt.xlim([0.0, 1.0])\n",
    "plt.ylim([0.0, 1.05])\n",
    "plt.xlabel('SOFA')\n",
    "plt.ylabel('Sepislabels')\n",
    "plt.title('AUROC score')\n",
    "plt.legend(loc=\"lower right\")\n",
    "plt.show()"
   ]
  },
  {
   "cell_type": "markdown",
   "id": "6878dd62",
   "metadata": {
    "ExecuteTime": {
     "end_time": "2023-02-20T03:08:16.935121Z",
     "start_time": "2023-02-20T03:08:16.935121Z"
    }
   },
   "source": [
    "def _make_window(rows, group, feature_columns, sequence_length):\n",
    "        X = []\n",
    "        for i in range(len(rows)):\n",
    "            row = rows.iloc[i]\n",
    "\n",
    "            df = group.get_group((row.pid))\n",
    "            df = df.loc[:row.name]\n",
    "            features = df[feature_columns].values\n",
    "\n",
    "            if len(features) < sequence_length:\n",
    "                x = np.zeros([sequence_length, len(feature_columns)])\n",
    "                x[-len(features):] = features\n",
    "            else:\n",
    "                x = features[-sequence_length:]\n",
    "\n",
    "            X.append(x)\n",
    "\n",
    "        return X\n",
    "    \n",
    "class Physionet2019(Dataset):\n",
    "    def __init__(self, df):\n",
    "        self.group = df.groupby(['pid'])\n",
    "        self.seq_len = 30\n",
    "        \n",
    "        self.event_df = df.query('SepsisLabel==1')\n",
    "        self.norm_df = df.query('SepsisLabel==0')\n",
    "        self.df = df \n",
    "        self.feat_cols = ['HR', 'O2Sat', 'Temp', 'SBP', 'MAP', 'DBP', 'Resp', 'EtCO2',\n",
    "                           'BaseExcess', 'HCO3', 'FiO2', 'pH', 'PaCO2', 'SaO2', 'AST', 'BUN',\n",
    "                           'Alkalinephos', 'Calcium', 'Chloride', 'Creatinine', 'Bilirubin_direct',\n",
    "                           'Glucose', 'Lactate', 'Magnesium', 'Phosphate', 'Potassium',\n",
    "                           'Bilirubin_total', 'TroponinI', 'Hct', 'Hgb', 'PTT', 'WBC',\n",
    "                           'Fibrinogen', 'Platelets']\n",
    "        self.info_cols = ['pid', 'HospAdmTime', 'ICULOS', 'SepsisLabel', 'Age','Gender']\n",
    "\n",
    "    def __len__(self):\n",
    "        return len(self.df)\n",
    "\n",
    "    def get_x_y(self, idx, df):\n",
    "        rows = df.iloc[[idx]]\n",
    "        x = _make_window(rows, self.group, self.feat_cols, self.seq_len)\n",
    "        y = list(rows['SepsisLabel'].values)\n",
    "        return x, y, rows\n",
    "    \n",
    "    def __getitem__(self, idx):\n",
    "        x, y, rows = self.get_x_y(idx, self.df)\n",
    "        return x, y, list(rows[self.info_cols].values)"
   ]
  },
  {
   "cell_type": "code",
   "execution_count": null,
   "id": "b37f6925",
   "metadata": {},
   "outputs": [],
   "source": []
  },
  {
   "cell_type": "code",
   "execution_count": 63,
   "id": "a09fddbe",
   "metadata": {
    "ExecuteTime": {
     "end_time": "2023-02-20T07:32:20.852772Z",
     "start_time": "2023-02-20T07:26:47.237567Z"
    }
   },
   "outputs": [
    {
     "data": {
      "application/vnd.jupyter.widget-view+json": {
       "model_id": "8164fa26cad84923ae6e26fcadb5c6a1",
       "version_major": 2,
       "version_minor": 0
      },
      "text/plain": [
       "  0%|          | 0/668747 [00:00<?, ?it/s]"
      ]
     },
     "metadata": {},
     "output_type": "display_data"
    }
   ],
   "source": [
    "def get_SOFA(sofa_input) :\n",
    "    # ToDo : sofa계산\n",
    "    score = 0\n",
    "    # Respiration Rate\n",
    "    if sofa_input['SaO2/FiO2'] < 100:\n",
    "        score += 4\n",
    "    elif 100 <= sofa_input['SaO2/FiO2'] < 200:\n",
    "        score += 3\n",
    "    elif 200 <= sofa_input['SaO2/FiO2'] < 300:\n",
    "        score += 2\n",
    "    elif 300 <= sofa_input['SaO2/FiO2'] < 400:\n",
    "        score += 1\n",
    "\n",
    "    # Coagulation (Platelet count)\n",
    "    if sofa_input['Platelets'] < 20:\n",
    "        score += 4\n",
    "    elif 20 <= sofa_input['Platelets'] < 50:\n",
    "        score += 3\n",
    "    elif 50 <= sofa_input['Platelets'] < 100:\n",
    "        score += 2\n",
    "    elif 100 <= sofa_input['Platelets'] < 150:\n",
    "        score += 1\n",
    "\n",
    "    # Liver (Bilirubin level)\n",
    "    if sofa_input['Bilirubin_total'] > 12:\n",
    "        score += 4\n",
    "    elif 6 <= sofa_input['Bilirubin_total'] <= 12:\n",
    "        score += 3\n",
    "    elif 2 <= sofa_input['Bilirubin_total'] <= 6:\n",
    "        score += 2\n",
    "    elif 1.2 <= sofa_input['Bilirubin_total'] <= 2:\n",
    "        score += 1\n",
    "    # Cardiovascular (Mean arterial pressure)\n",
    "    if sofa_input['MAP'] < 70:\n",
    "        score += 1\n",
    "    elif sofa_input['MAP'] < 50:\n",
    "        score += 2\n",
    "    elif sofa_input['MAP'] < 40:\n",
    "        score += 3\n",
    "\n",
    "   # Renal (Creatinine or urine output)\n",
    "    if sofa_input['Creatinine'] > 5:\n",
    "        score += 4\n",
    "    elif 3.5 <= sofa_input['Creatinine'] <= 4.9:\n",
    "        score += 3\n",
    "    elif 2 <= sofa_input['Creatinine'] <= 3.4:\n",
    "        score += 2\n",
    "    elif 1.2 <= sofa_input['Creatinine'] <= 1.9:\n",
    "        score += 1\n",
    "    \n",
    "    return score\n",
    "\n",
    "# 새로운 컬럼을 추가하기 전에 초기값으로 0을 할당합니다.\n",
    "test_df['SOFA'] = 0\n",
    "\n",
    "# SOFA에서 사용할 컬럼들의 리스트\n",
    "sofa_columns = ['SaO2/FiO2', 'Platelets', 'Bilirubin_total', 'MAP', 'Creatinine']\n",
    "\n",
    "# 각 행마다 SOFA 점수를 계산하여 새로운 컬럼에 추가합니다.\n",
    "for i in tqdm(test_df.index):\n",
    "    sofa_input = test_df.loc[i, sofa_columns]\n",
    "    sofa_score = get_SOFA(sofa_input)\n",
    "    test_df.at[i,'SOFA'] = sofa_score"
   ]
  },
  {
   "cell_type": "code",
   "execution_count": 46,
   "id": "c07e129a",
   "metadata": {
    "ExecuteTime": {
     "end_time": "2023-02-20T05:39:22.611528Z",
     "start_time": "2023-02-20T05:39:22.602578Z"
    }
   },
   "outputs": [
    {
     "data": {
      "text/plain": [
       "Index(['HR', 'O2Sat', 'Temp', 'SBP', 'MAP', 'DBP', 'Resp', 'EtCO2',\n",
       "       'BaseExcess', 'HCO3', 'FiO2', 'pH', 'PaCO2', 'SaO2', 'AST', 'BUN',\n",
       "       'Alkalinephos', 'Calcium', 'Chloride', 'Creatinine', 'Bilirubin_direct',\n",
       "       'Glucose', 'Lactate', 'Magnesium', 'Phosphate', 'Potassium',\n",
       "       'Bilirubin_total', 'TroponinI', 'Hct', 'Hgb', 'PTT', 'WBC',\n",
       "       'Fibrinogen', 'Platelets', 'Age', 'Gender', 'Unit1', 'Unit2',\n",
       "       'HospAdmTime', 'ICULOS', 'SepsisLabel', 'pid', 'SaO2/FiO2', 'SOFA'],\n",
       "      dtype='object')"
      ]
     },
     "execution_count": 46,
     "metadata": {},
     "output_type": "execute_result"
    }
   ],
   "source": [
    "test_df.columns"
   ]
  },
  {
   "cell_type": "code",
   "execution_count": 144,
   "id": "ef5a546e",
   "metadata": {
    "ExecuteTime": {
     "end_time": "2023-02-21T01:22:58.298460Z",
     "start_time": "2023-02-21T01:22:54.222718Z"
    }
   },
   "outputs": [
    {
     "name": "stdout",
     "output_type": "stream",
     "text": [
      "Requirement already satisfied: torch in c:\\users\\smhrd\\appdata\\roaming\\python\\python39\\site-packages (1.13.1)\n",
      "Requirement already satisfied: torchvision in c:\\users\\smhrd\\appdata\\roaming\\python\\python39\\site-packages (0.14.1)\n",
      "Collecting torchaudio\n",
      "  Downloading torchaudio-0.13.1-cp39-cp39-win_amd64.whl (2.0 MB)\n",
      "     ---------------------------------------- 2.0/2.0 MB 11.8 MB/s eta 0:00:00\n",
      "Requirement already satisfied: typing-extensions in c:\\users\\smhrd\\anaconda3\\lib\\site-packages (from torch) (4.3.0)\n",
      "Requirement already satisfied: pillow!=8.3.*,>=5.3.0 in c:\\users\\smhrd\\anaconda3\\lib\\site-packages (from torchvision) (9.2.0)\n",
      "Requirement already satisfied: requests in c:\\users\\smhrd\\anaconda3\\lib\\site-packages (from torchvision) (2.28.1)\n",
      "Requirement already satisfied: numpy in c:\\users\\smhrd\\anaconda3\\lib\\site-packages (from torchvision) (1.21.5)\n",
      "Requirement already satisfied: urllib3<1.27,>=1.21.1 in c:\\users\\smhrd\\anaconda3\\lib\\site-packages (from requests->torchvision) (1.26.11)\n",
      "Requirement already satisfied: certifi>=2017.4.17 in c:\\users\\smhrd\\anaconda3\\lib\\site-packages (from requests->torchvision) (2022.9.14)\n",
      "Requirement already satisfied: idna<4,>=2.5 in c:\\users\\smhrd\\anaconda3\\lib\\site-packages (from requests->torchvision) (3.3)\n",
      "Requirement already satisfied: charset-normalizer<3,>=2 in c:\\users\\smhrd\\anaconda3\\lib\\site-packages (from requests->torchvision) (2.0.4)\n",
      "Installing collected packages: torchaudio\n",
      "Successfully installed torchaudio-0.13.1\n"
     ]
    }
   ],
   "source": [
    "!pip install torch torchvision torchaudio"
   ]
  },
  {
   "cell_type": "code",
   "execution_count": 146,
   "id": "b4838863",
   "metadata": {
    "ExecuteTime": {
     "end_time": "2023-02-21T01:23:15.479049Z",
     "start_time": "2023-02-21T01:23:15.463015Z"
    }
   },
   "outputs": [],
   "source": [
    "import torch\n",
    "from torch.utils.data import Dataset\n",
    "from torch.utils.data import DataLoader, WeightedRandomSampler"
   ]
  },
  {
   "cell_type": "code",
   "execution_count": 135,
   "id": "5f658749",
   "metadata": {
    "ExecuteTime": {
     "end_time": "2023-02-21T01:15:16.314013Z",
     "start_time": "2023-02-21T01:15:16.303046Z"
    }
   },
   "outputs": [],
   "source": [
    "def _make_window(rows, group, feature_columns, sequence_length):\n",
    "        X = []\n",
    "        for i in range(len(rows)):\n",
    "            row = rows.iloc[i]\n",
    "\n",
    "            df = group.get_group((row.pid))\n",
    "            df = df.loc[:row.name]\n",
    "            features = df[feature_columns].values\n",
    "\n",
    "            if len(features) < sequence_length:\n",
    "                x = np.zeros([sequence_length, len(feature_columns)])\n",
    "                x[-len(features):] = features\n",
    "            else:\n",
    "                x = features[-sequence_length:]\n",
    "\n",
    "            X.append(x)\n",
    "\n",
    "        return X\n",
    "    \n",
    "class Physionet2019(Dataset):\n",
    "    def __init__(self, df):\n",
    "        self.group = df.groupby(['pid'])\n",
    "        self.seq_len = 30\n",
    "        self.df = df \n",
    "        self.feat_cols = ['HR', 'O2Sat', 'Temp', 'SBP', 'MAP', 'DBP', 'Resp', 'EtCO2',\n",
    "                           'BaseExcess', 'HCO3', 'FiO2', 'pH', 'PaCO2', 'SaO2', 'AST', 'BUN',\n",
    "                           'Alkalinephos', 'Calcium', 'Chloride', 'Creatinine', 'Bilirubin_direct',\n",
    "                           'Glucose', 'Lactate', 'Magnesium', 'Phosphate', 'Potassium',\n",
    "                           'Bilirubin_total', 'TroponinI', 'Hct', 'Hgb', 'PTT', 'WBC',\n",
    "                           'Fibrinogen', 'Platelets']\n",
    "        self.info_cols = ['pid', 'HospAdmTime', 'ICULOS', 'SepsisLabel', 'Age','Gender']\n",
    "\n",
    "    def __len__(self):\n",
    "        return len(self.df)\n",
    "\n",
    "    def get_x_y(self, idx, df):\n",
    "        rows = df.iloc[[idx]]\n",
    "        x = _make_window(rows, self.group, self.feat_cols, self.seq_len)\n",
    "        y = list(rows['SepsisLabel'].values)\n",
    "        return x, y, rows\n",
    "    \n",
    "    def __getitem__(self, idx):\n",
    "        x, y, rows = self.get_x_y(idx, self.df)\n",
    "        return x, y, list(rows[self.info_cols].values)"
   ]
  },
  {
   "cell_type": "code",
   "execution_count": 136,
   "id": "0d059aee",
   "metadata": {
    "ExecuteTime": {
     "end_time": "2023-02-21T01:15:19.137492Z",
     "start_time": "2023-02-21T01:15:19.121844Z"
    }
   },
   "outputs": [],
   "source": [
    "train_ds = Physionet2019(train_df)\n",
    "test_ds = Physionet2019(test_df)"
   ]
  },
  {
   "cell_type": "code",
   "execution_count": 137,
   "id": "eee805ba",
   "metadata": {
    "ExecuteTime": {
     "end_time": "2023-02-21T01:15:20.953191Z",
     "start_time": "2023-02-21T01:15:20.887224Z"
    }
   },
   "outputs": [],
   "source": [
    "x, y, info = test_ds[10]"
   ]
  },
  {
   "cell_type": "code",
   "execution_count": 138,
   "id": "5a1d4288",
   "metadata": {
    "ExecuteTime": {
     "end_time": "2023-02-21T01:15:22.416724Z",
     "start_time": "2023-02-21T01:15:22.409777Z"
    }
   },
   "outputs": [],
   "source": [
    "def get_sampler(train_df):\n",
    "    class_counts = train_df['SepsisLabel'].value_counts() \n",
    "    num_samples = sum(class_counts)\n",
    "    labels = train_df['SepsisLabel'].to_list()\n",
    "\n",
    "    #클래스별 가중치 부여 [48000/43200, 48000/4800] => class 1에 가중치 높게 부여하게 됨\n",
    "    class_weights = [num_samples / class_counts[i] for i in range(len(class_counts))] \n",
    "\n",
    "    # 해당 데이터의 label에 해당되는 가중치\n",
    "    weights = [class_weights[labels[i]] for i in range(int(num_samples))] #해당 레이블마다의 가중치 비율\n",
    "    sampler = WeightedRandomSampler(torch.DoubleTensor(weights), int(num_samples))\n",
    "    return sampler"
   ]
  },
  {
   "cell_type": "code",
   "execution_count": 143,
   "id": "5a77c579",
   "metadata": {
    "ExecuteTime": {
     "end_time": "2023-02-21T01:19:09.582678Z",
     "start_time": "2023-02-21T01:19:09.574701Z"
    }
   },
   "outputs": [],
   "source": [
    "def val_collate(batch):\n",
    "    X = []\n",
    "    Label = []\n",
    "    INFO = []\n",
    "    for x, label, info in batch:\n",
    "        for i in range(len(x)):\n",
    "            X.append(x[i])\n",
    "            Label.append(label[i])\n",
    "            INFO.append(info[i])\n",
    "\n",
    "    X_ = [torch.Tensor(x) for x in X]\n",
    "    xs = torch.stack(X_, dim=0)\n",
    "    return xs, torch.Tensor(Label), np.array(INFO)"
   ]
  },
  {
   "cell_type": "code",
   "execution_count": 147,
   "id": "b6857248",
   "metadata": {
    "ExecuteTime": {
     "end_time": "2023-02-21T01:23:18.995251Z",
     "start_time": "2023-02-21T01:23:18.836668Z"
    }
   },
   "outputs": [],
   "source": [
    "train_dl = DataLoader(train_ds, collate_fn=val_collate, sampler=get_sampler(train_df), batch_size=128)"
   ]
  },
  {
   "cell_type": "code",
   "execution_count": 169,
   "id": "61313e5d",
   "metadata": {
    "ExecuteTime": {
     "end_time": "2023-02-21T05:32:50.908940Z",
     "start_time": "2023-02-21T05:32:50.759655Z"
    }
   },
   "outputs": [],
   "source": [
    "test_dl = DataLoader(test_ds, collate_fn=val_collate, sampler=get_sampler(train_df), batch_size=128)"
   ]
  },
  {
   "cell_type": "code",
   "execution_count": 156,
   "id": "66f37490",
   "metadata": {
    "ExecuteTime": {
     "end_time": "2023-02-21T01:49:21.070283Z",
     "start_time": "2023-02-21T01:49:21.060311Z"
    }
   },
   "outputs": [],
   "source": [
    "import torch\n",
    "import torch.nn as nn\n",
    "import torch.optim as optim\n",
    "\n",
    "optimizer = optim.Adam(model.parameters(), lr=0.001)\n",
    "# 모델 정의\n",
    "class MyModel(nn.Module):\n",
    "    def __init__(self):\n",
    "        super(MyModel, self).__init__()\n",
    "        self.fc1 = nn.Linear(34, 20)\n",
    "        self.fc2 = nn.Linear(20, 1)\n",
    "\n",
    "    def forward(self, x):\n",
    "        x = self.fc1(x)\n",
    "        x = torch.relu(x)\n",
    "        x = self.fc2(x)\n",
    "        return x\n",
    "\n",
    "# 모델 생성\n",
    "loss_fn = nn.MSELoss()\n",
    "model = MyModel()"
   ]
  },
  {
   "cell_type": "code",
   "execution_count": 175,
   "id": "7ed983be",
   "metadata": {
    "ExecuteTime": {
     "end_time": "2023-02-21T08:14:31.681953Z",
     "start_time": "2023-02-21T07:18:11.284487Z"
    },
    "scrolled": true
   },
   "outputs": [
    {
     "data": {
      "application/vnd.jupyter.widget-view+json": {
       "model_id": "ddd4dfe921bc470da47b8c0e04c053e6",
       "version_major": 2,
       "version_minor": 0
      },
      "text/plain": [
       "  0%|          | 0/3 [00:00<?, ?it/s]"
      ]
     },
     "metadata": {},
     "output_type": "display_data"
    },
    {
     "data": {
      "application/vnd.jupyter.widget-view+json": {
       "model_id": "b89dec52ebce4cd7956be6888bcaf936",
       "version_major": 2,
       "version_minor": 0
      },
      "text/plain": [
       "  0%|          | 0/6905 [00:00<?, ?it/s]"
      ]
     },
     "metadata": {},
     "output_type": "display_data"
    },
    {
     "data": {
      "application/vnd.jupyter.widget-view+json": {
       "model_id": "e731ab274b5647ee8155762cb6778cb9",
       "version_major": 2,
       "version_minor": 0
      },
      "text/plain": [
       "  0%|          | 0/6905 [00:00<?, ?it/s]"
      ]
     },
     "metadata": {},
     "output_type": "display_data"
    },
    {
     "data": {
      "application/vnd.jupyter.widget-view+json": {
       "model_id": "a806e561aca04969946a07f93e1cba35",
       "version_major": 2,
       "version_minor": 0
      },
      "text/plain": [
       "  0%|          | 0/6905 [00:00<?, ?it/s]"
      ]
     },
     "metadata": {},
     "output_type": "display_data"
    }
   ],
   "source": [
    "import warnings\n",
    "warnings.filterwarnings('ignore')\n",
    "\n",
    "train_len = len(train_dl)\n",
    "\n",
    "# 학습\n",
    "for epoch in tqdm(range(3)):\n",
    "    for data in tqdm(train_dl, total=train_len):\n",
    "        x, y, info = data\n",
    "        pred = model(x)\n",
    "        loss = loss_fn(y, pred)\n",
    "        optim.zero_grad()\n",
    "        loss.backward()\n",
    "        optim.step()"
   ]
  },
  {
   "cell_type": "code",
   "execution_count": 176,
   "id": "a2923e7e",
   "metadata": {
    "ExecuteTime": {
     "end_time": "2023-02-21T08:14:36.762723Z",
     "start_time": "2023-02-21T08:14:36.517107Z"
    }
   },
   "outputs": [
    {
     "data": {
      "application/vnd.jupyter.widget-view+json": {
       "model_id": "77d59872831b41fca9ca245a2396b04c",
       "version_major": 2,
       "version_minor": 0
      },
      "text/plain": [
       "  0%|          | 0/6905 [00:00<?, ?it/s]"
      ]
     },
     "metadata": {},
     "output_type": "display_data"
    },
    {
     "ename": "IndexError",
     "evalue": "positional indexers are out-of-bounds",
     "output_type": "error",
     "traceback": [
      "\u001b[1;31m---------------------------------------------------------------------------\u001b[0m",
      "\u001b[1;31mIndexError\u001b[0m                                Traceback (most recent call last)",
      "\u001b[1;32m~\\anaconda3\\lib\\site-packages\\pandas\\core\\indexing.py\u001b[0m in \u001b[0;36m_get_list_axis\u001b[1;34m(self, key, axis)\u001b[0m\n\u001b[0;32m   1484\u001b[0m         \u001b[1;32mtry\u001b[0m\u001b[1;33m:\u001b[0m\u001b[1;33m\u001b[0m\u001b[1;33m\u001b[0m\u001b[0m\n\u001b[1;32m-> 1485\u001b[1;33m             \u001b[1;32mreturn\u001b[0m \u001b[0mself\u001b[0m\u001b[1;33m.\u001b[0m\u001b[0mobj\u001b[0m\u001b[1;33m.\u001b[0m\u001b[0m_take_with_is_copy\u001b[0m\u001b[1;33m(\u001b[0m\u001b[0mkey\u001b[0m\u001b[1;33m,\u001b[0m \u001b[0maxis\u001b[0m\u001b[1;33m=\u001b[0m\u001b[0maxis\u001b[0m\u001b[1;33m)\u001b[0m\u001b[1;33m\u001b[0m\u001b[1;33m\u001b[0m\u001b[0m\n\u001b[0m\u001b[0;32m   1486\u001b[0m         \u001b[1;32mexcept\u001b[0m \u001b[0mIndexError\u001b[0m \u001b[1;32mas\u001b[0m \u001b[0merr\u001b[0m\u001b[1;33m:\u001b[0m\u001b[1;33m\u001b[0m\u001b[1;33m\u001b[0m\u001b[0m\n",
      "\u001b[1;32m~\\anaconda3\\lib\\site-packages\\pandas\\core\\generic.py\u001b[0m in \u001b[0;36m_take_with_is_copy\u001b[1;34m(self, indices, axis)\u001b[0m\n\u001b[0;32m   3715\u001b[0m         \"\"\"\n\u001b[1;32m-> 3716\u001b[1;33m         \u001b[0mresult\u001b[0m \u001b[1;33m=\u001b[0m \u001b[0mself\u001b[0m\u001b[1;33m.\u001b[0m\u001b[0mtake\u001b[0m\u001b[1;33m(\u001b[0m\u001b[0mindices\u001b[0m\u001b[1;33m=\u001b[0m\u001b[0mindices\u001b[0m\u001b[1;33m,\u001b[0m \u001b[0maxis\u001b[0m\u001b[1;33m=\u001b[0m\u001b[0maxis\u001b[0m\u001b[1;33m)\u001b[0m\u001b[1;33m\u001b[0m\u001b[1;33m\u001b[0m\u001b[0m\n\u001b[0m\u001b[0;32m   3717\u001b[0m         \u001b[1;31m# Maybe set copy if we didn't actually change the index.\u001b[0m\u001b[1;33m\u001b[0m\u001b[1;33m\u001b[0m\u001b[0m\n",
      "\u001b[1;32m~\\anaconda3\\lib\\site-packages\\pandas\\core\\generic.py\u001b[0m in \u001b[0;36mtake\u001b[1;34m(self, indices, axis, is_copy, **kwargs)\u001b[0m\n\u001b[0;32m   3702\u001b[0m \u001b[1;33m\u001b[0m\u001b[0m\n\u001b[1;32m-> 3703\u001b[1;33m         new_data = self._mgr.take(\n\u001b[0m\u001b[0;32m   3704\u001b[0m             \u001b[0mindices\u001b[0m\u001b[1;33m,\u001b[0m \u001b[0maxis\u001b[0m\u001b[1;33m=\u001b[0m\u001b[0mself\u001b[0m\u001b[1;33m.\u001b[0m\u001b[0m_get_block_manager_axis\u001b[0m\u001b[1;33m(\u001b[0m\u001b[0maxis\u001b[0m\u001b[1;33m)\u001b[0m\u001b[1;33m,\u001b[0m \u001b[0mverify\u001b[0m\u001b[1;33m=\u001b[0m\u001b[1;32mTrue\u001b[0m\u001b[1;33m\u001b[0m\u001b[1;33m\u001b[0m\u001b[0m\n",
      "\u001b[1;32m~\\anaconda3\\lib\\site-packages\\pandas\\core\\internals\\managers.py\u001b[0m in \u001b[0;36mtake\u001b[1;34m(self, indexer, axis, verify)\u001b[0m\n\u001b[0;32m    893\u001b[0m         \u001b[0mn\u001b[0m \u001b[1;33m=\u001b[0m \u001b[0mself\u001b[0m\u001b[1;33m.\u001b[0m\u001b[0mshape\u001b[0m\u001b[1;33m[\u001b[0m\u001b[0maxis\u001b[0m\u001b[1;33m]\u001b[0m\u001b[1;33m\u001b[0m\u001b[1;33m\u001b[0m\u001b[0m\n\u001b[1;32m--> 894\u001b[1;33m         \u001b[0mindexer\u001b[0m \u001b[1;33m=\u001b[0m \u001b[0mmaybe_convert_indices\u001b[0m\u001b[1;33m(\u001b[0m\u001b[0mindexer\u001b[0m\u001b[1;33m,\u001b[0m \u001b[0mn\u001b[0m\u001b[1;33m,\u001b[0m \u001b[0mverify\u001b[0m\u001b[1;33m=\u001b[0m\u001b[0mverify\u001b[0m\u001b[1;33m)\u001b[0m\u001b[1;33m\u001b[0m\u001b[1;33m\u001b[0m\u001b[0m\n\u001b[0m\u001b[0;32m    895\u001b[0m \u001b[1;33m\u001b[0m\u001b[0m\n",
      "\u001b[1;32m~\\anaconda3\\lib\\site-packages\\pandas\\core\\indexers\\utils.py\u001b[0m in \u001b[0;36mmaybe_convert_indices\u001b[1;34m(indices, n, verify)\u001b[0m\n\u001b[0;32m    291\u001b[0m         \u001b[1;32mif\u001b[0m \u001b[0mmask\u001b[0m\u001b[1;33m.\u001b[0m\u001b[0many\u001b[0m\u001b[1;33m(\u001b[0m\u001b[1;33m)\u001b[0m\u001b[1;33m:\u001b[0m\u001b[1;33m\u001b[0m\u001b[1;33m\u001b[0m\u001b[0m\n\u001b[1;32m--> 292\u001b[1;33m             \u001b[1;32mraise\u001b[0m \u001b[0mIndexError\u001b[0m\u001b[1;33m(\u001b[0m\u001b[1;34m\"indices are out-of-bounds\"\u001b[0m\u001b[1;33m)\u001b[0m\u001b[1;33m\u001b[0m\u001b[1;33m\u001b[0m\u001b[0m\n\u001b[0m\u001b[0;32m    293\u001b[0m     \u001b[1;32mreturn\u001b[0m \u001b[0mindices\u001b[0m\u001b[1;33m\u001b[0m\u001b[1;33m\u001b[0m\u001b[0m\n",
      "\u001b[1;31mIndexError\u001b[0m: indices are out-of-bounds",
      "\nThe above exception was the direct cause of the following exception:\n",
      "\u001b[1;31mIndexError\u001b[0m                                Traceback (most recent call last)",
      "\u001b[1;32m~\\AppData\\Local\\Temp\\ipykernel_13400\\52528615.py\u001b[0m in \u001b[0;36m<module>\u001b[1;34m\u001b[0m\n\u001b[0;32m      2\u001b[0m \u001b[0mtest_Y\u001b[0m\u001b[1;33m,\u001b[0m \u001b[0mtest_pred\u001b[0m\u001b[1;33m,\u001b[0m \u001b[0mtest_info\u001b[0m \u001b[1;33m=\u001b[0m \u001b[1;33m[\u001b[0m\u001b[1;33m]\u001b[0m\u001b[1;33m,\u001b[0m \u001b[1;33m[\u001b[0m\u001b[1;33m]\u001b[0m\u001b[1;33m,\u001b[0m \u001b[1;33m[\u001b[0m\u001b[1;33m]\u001b[0m\u001b[1;33m\u001b[0m\u001b[1;33m\u001b[0m\u001b[0m\n\u001b[0;32m      3\u001b[0m \u001b[0mtest_len\u001b[0m \u001b[1;33m=\u001b[0m \u001b[0mlen\u001b[0m\u001b[1;33m(\u001b[0m\u001b[0mtest_dl\u001b[0m\u001b[1;33m)\u001b[0m\u001b[1;33m\u001b[0m\u001b[1;33m\u001b[0m\u001b[0m\n\u001b[1;32m----> 4\u001b[1;33m \u001b[1;32mfor\u001b[0m \u001b[0mdata\u001b[0m \u001b[1;32min\u001b[0m \u001b[0mtqdm\u001b[0m\u001b[1;33m(\u001b[0m\u001b[0mtest_dl\u001b[0m\u001b[1;33m,\u001b[0m \u001b[0mtotal\u001b[0m\u001b[1;33m=\u001b[0m\u001b[0mtest_len\u001b[0m\u001b[1;33m)\u001b[0m\u001b[1;33m:\u001b[0m\u001b[1;33m\u001b[0m\u001b[1;33m\u001b[0m\u001b[0m\n\u001b[0m\u001b[0;32m      5\u001b[0m     \u001b[0mx\u001b[0m\u001b[1;33m,\u001b[0m \u001b[0my\u001b[0m\u001b[1;33m,\u001b[0m \u001b[0minfo\u001b[0m \u001b[1;33m=\u001b[0m \u001b[0mdata\u001b[0m\u001b[1;33m\u001b[0m\u001b[1;33m\u001b[0m\u001b[0m\n\u001b[0;32m      6\u001b[0m     \u001b[0mpred\u001b[0m \u001b[1;33m=\u001b[0m \u001b[0mmodel\u001b[0m\u001b[1;33m(\u001b[0m\u001b[0mx\u001b[0m\u001b[1;33m)\u001b[0m\u001b[1;33m\u001b[0m\u001b[1;33m\u001b[0m\u001b[0m\n",
      "\u001b[1;32m~\\anaconda3\\lib\\site-packages\\tqdm\\notebook.py\u001b[0m in \u001b[0;36m__iter__\u001b[1;34m(self)\u001b[0m\n\u001b[0;32m    257\u001b[0m         \u001b[1;32mtry\u001b[0m\u001b[1;33m:\u001b[0m\u001b[1;33m\u001b[0m\u001b[1;33m\u001b[0m\u001b[0m\n\u001b[0;32m    258\u001b[0m             \u001b[0mit\u001b[0m \u001b[1;33m=\u001b[0m \u001b[0msuper\u001b[0m\u001b[1;33m(\u001b[0m\u001b[0mtqdm_notebook\u001b[0m\u001b[1;33m,\u001b[0m \u001b[0mself\u001b[0m\u001b[1;33m)\u001b[0m\u001b[1;33m.\u001b[0m\u001b[0m__iter__\u001b[0m\u001b[1;33m(\u001b[0m\u001b[1;33m)\u001b[0m\u001b[1;33m\u001b[0m\u001b[1;33m\u001b[0m\u001b[0m\n\u001b[1;32m--> 259\u001b[1;33m             \u001b[1;32mfor\u001b[0m \u001b[0mobj\u001b[0m \u001b[1;32min\u001b[0m \u001b[0mit\u001b[0m\u001b[1;33m:\u001b[0m\u001b[1;33m\u001b[0m\u001b[1;33m\u001b[0m\u001b[0m\n\u001b[0m\u001b[0;32m    260\u001b[0m                 \u001b[1;31m# return super(tqdm...) will not catch exception\u001b[0m\u001b[1;33m\u001b[0m\u001b[1;33m\u001b[0m\u001b[0m\n\u001b[0;32m    261\u001b[0m                 \u001b[1;32myield\u001b[0m \u001b[0mobj\u001b[0m\u001b[1;33m\u001b[0m\u001b[1;33m\u001b[0m\u001b[0m\n",
      "\u001b[1;32m~\\anaconda3\\lib\\site-packages\\tqdm\\std.py\u001b[0m in \u001b[0;36m__iter__\u001b[1;34m(self)\u001b[0m\n\u001b[0;32m   1193\u001b[0m \u001b[1;33m\u001b[0m\u001b[0m\n\u001b[0;32m   1194\u001b[0m         \u001b[1;32mtry\u001b[0m\u001b[1;33m:\u001b[0m\u001b[1;33m\u001b[0m\u001b[1;33m\u001b[0m\u001b[0m\n\u001b[1;32m-> 1195\u001b[1;33m             \u001b[1;32mfor\u001b[0m \u001b[0mobj\u001b[0m \u001b[1;32min\u001b[0m \u001b[0miterable\u001b[0m\u001b[1;33m:\u001b[0m\u001b[1;33m\u001b[0m\u001b[1;33m\u001b[0m\u001b[0m\n\u001b[0m\u001b[0;32m   1196\u001b[0m                 \u001b[1;32myield\u001b[0m \u001b[0mobj\u001b[0m\u001b[1;33m\u001b[0m\u001b[1;33m\u001b[0m\u001b[0m\n\u001b[0;32m   1197\u001b[0m                 \u001b[1;31m# Update and possibly print the progressbar.\u001b[0m\u001b[1;33m\u001b[0m\u001b[1;33m\u001b[0m\u001b[0m\n",
      "\u001b[1;32m~\\AppData\\Roaming\\Python\\Python39\\site-packages\\torch\\utils\\data\\dataloader.py\u001b[0m in \u001b[0;36m__next__\u001b[1;34m(self)\u001b[0m\n\u001b[0;32m    626\u001b[0m                 \u001b[1;31m# TODO(https://github.com/pytorch/pytorch/issues/76750)\u001b[0m\u001b[1;33m\u001b[0m\u001b[1;33m\u001b[0m\u001b[0m\n\u001b[0;32m    627\u001b[0m                 \u001b[0mself\u001b[0m\u001b[1;33m.\u001b[0m\u001b[0m_reset\u001b[0m\u001b[1;33m(\u001b[0m\u001b[1;33m)\u001b[0m  \u001b[1;31m# type: ignore[call-arg]\u001b[0m\u001b[1;33m\u001b[0m\u001b[1;33m\u001b[0m\u001b[0m\n\u001b[1;32m--> 628\u001b[1;33m             \u001b[0mdata\u001b[0m \u001b[1;33m=\u001b[0m \u001b[0mself\u001b[0m\u001b[1;33m.\u001b[0m\u001b[0m_next_data\u001b[0m\u001b[1;33m(\u001b[0m\u001b[1;33m)\u001b[0m\u001b[1;33m\u001b[0m\u001b[1;33m\u001b[0m\u001b[0m\n\u001b[0m\u001b[0;32m    629\u001b[0m             \u001b[0mself\u001b[0m\u001b[1;33m.\u001b[0m\u001b[0m_num_yielded\u001b[0m \u001b[1;33m+=\u001b[0m \u001b[1;36m1\u001b[0m\u001b[1;33m\u001b[0m\u001b[1;33m\u001b[0m\u001b[0m\n\u001b[0;32m    630\u001b[0m             \u001b[1;32mif\u001b[0m \u001b[0mself\u001b[0m\u001b[1;33m.\u001b[0m\u001b[0m_dataset_kind\u001b[0m \u001b[1;33m==\u001b[0m \u001b[0m_DatasetKind\u001b[0m\u001b[1;33m.\u001b[0m\u001b[0mIterable\u001b[0m \u001b[1;32mand\u001b[0m\u001b[0;31m \u001b[0m\u001b[0;31m\\\u001b[0m\u001b[1;33m\u001b[0m\u001b[1;33m\u001b[0m\u001b[0m\n",
      "\u001b[1;32m~\\AppData\\Roaming\\Python\\Python39\\site-packages\\torch\\utils\\data\\dataloader.py\u001b[0m in \u001b[0;36m_next_data\u001b[1;34m(self)\u001b[0m\n\u001b[0;32m    669\u001b[0m     \u001b[1;32mdef\u001b[0m \u001b[0m_next_data\u001b[0m\u001b[1;33m(\u001b[0m\u001b[0mself\u001b[0m\u001b[1;33m)\u001b[0m\u001b[1;33m:\u001b[0m\u001b[1;33m\u001b[0m\u001b[1;33m\u001b[0m\u001b[0m\n\u001b[0;32m    670\u001b[0m         \u001b[0mindex\u001b[0m \u001b[1;33m=\u001b[0m \u001b[0mself\u001b[0m\u001b[1;33m.\u001b[0m\u001b[0m_next_index\u001b[0m\u001b[1;33m(\u001b[0m\u001b[1;33m)\u001b[0m  \u001b[1;31m# may raise StopIteration\u001b[0m\u001b[1;33m\u001b[0m\u001b[1;33m\u001b[0m\u001b[0m\n\u001b[1;32m--> 671\u001b[1;33m         \u001b[0mdata\u001b[0m \u001b[1;33m=\u001b[0m \u001b[0mself\u001b[0m\u001b[1;33m.\u001b[0m\u001b[0m_dataset_fetcher\u001b[0m\u001b[1;33m.\u001b[0m\u001b[0mfetch\u001b[0m\u001b[1;33m(\u001b[0m\u001b[0mindex\u001b[0m\u001b[1;33m)\u001b[0m  \u001b[1;31m# may raise StopIteration\u001b[0m\u001b[1;33m\u001b[0m\u001b[1;33m\u001b[0m\u001b[0m\n\u001b[0m\u001b[0;32m    672\u001b[0m         \u001b[1;32mif\u001b[0m \u001b[0mself\u001b[0m\u001b[1;33m.\u001b[0m\u001b[0m_pin_memory\u001b[0m\u001b[1;33m:\u001b[0m\u001b[1;33m\u001b[0m\u001b[1;33m\u001b[0m\u001b[0m\n\u001b[0;32m    673\u001b[0m             \u001b[0mdata\u001b[0m \u001b[1;33m=\u001b[0m \u001b[0m_utils\u001b[0m\u001b[1;33m.\u001b[0m\u001b[0mpin_memory\u001b[0m\u001b[1;33m.\u001b[0m\u001b[0mpin_memory\u001b[0m\u001b[1;33m(\u001b[0m\u001b[0mdata\u001b[0m\u001b[1;33m,\u001b[0m \u001b[0mself\u001b[0m\u001b[1;33m.\u001b[0m\u001b[0m_pin_memory_device\u001b[0m\u001b[1;33m)\u001b[0m\u001b[1;33m\u001b[0m\u001b[1;33m\u001b[0m\u001b[0m\n",
      "\u001b[1;32m~\\AppData\\Roaming\\Python\\Python39\\site-packages\\torch\\utils\\data\\_utils\\fetch.py\u001b[0m in \u001b[0;36mfetch\u001b[1;34m(self, possibly_batched_index)\u001b[0m\n\u001b[0;32m     56\u001b[0m                 \u001b[0mdata\u001b[0m \u001b[1;33m=\u001b[0m \u001b[0mself\u001b[0m\u001b[1;33m.\u001b[0m\u001b[0mdataset\u001b[0m\u001b[1;33m.\u001b[0m\u001b[0m__getitems__\u001b[0m\u001b[1;33m(\u001b[0m\u001b[0mpossibly_batched_index\u001b[0m\u001b[1;33m)\u001b[0m\u001b[1;33m\u001b[0m\u001b[1;33m\u001b[0m\u001b[0m\n\u001b[0;32m     57\u001b[0m             \u001b[1;32melse\u001b[0m\u001b[1;33m:\u001b[0m\u001b[1;33m\u001b[0m\u001b[1;33m\u001b[0m\u001b[0m\n\u001b[1;32m---> 58\u001b[1;33m                 \u001b[0mdata\u001b[0m \u001b[1;33m=\u001b[0m \u001b[1;33m[\u001b[0m\u001b[0mself\u001b[0m\u001b[1;33m.\u001b[0m\u001b[0mdataset\u001b[0m\u001b[1;33m[\u001b[0m\u001b[0midx\u001b[0m\u001b[1;33m]\u001b[0m \u001b[1;32mfor\u001b[0m \u001b[0midx\u001b[0m \u001b[1;32min\u001b[0m \u001b[0mpossibly_batched_index\u001b[0m\u001b[1;33m]\u001b[0m\u001b[1;33m\u001b[0m\u001b[1;33m\u001b[0m\u001b[0m\n\u001b[0m\u001b[0;32m     59\u001b[0m         \u001b[1;32melse\u001b[0m\u001b[1;33m:\u001b[0m\u001b[1;33m\u001b[0m\u001b[1;33m\u001b[0m\u001b[0m\n\u001b[0;32m     60\u001b[0m             \u001b[0mdata\u001b[0m \u001b[1;33m=\u001b[0m \u001b[0mself\u001b[0m\u001b[1;33m.\u001b[0m\u001b[0mdataset\u001b[0m\u001b[1;33m[\u001b[0m\u001b[0mpossibly_batched_index\u001b[0m\u001b[1;33m]\u001b[0m\u001b[1;33m\u001b[0m\u001b[1;33m\u001b[0m\u001b[0m\n",
      "\u001b[1;32m~\\AppData\\Roaming\\Python\\Python39\\site-packages\\torch\\utils\\data\\_utils\\fetch.py\u001b[0m in \u001b[0;36m<listcomp>\u001b[1;34m(.0)\u001b[0m\n\u001b[0;32m     56\u001b[0m                 \u001b[0mdata\u001b[0m \u001b[1;33m=\u001b[0m \u001b[0mself\u001b[0m\u001b[1;33m.\u001b[0m\u001b[0mdataset\u001b[0m\u001b[1;33m.\u001b[0m\u001b[0m__getitems__\u001b[0m\u001b[1;33m(\u001b[0m\u001b[0mpossibly_batched_index\u001b[0m\u001b[1;33m)\u001b[0m\u001b[1;33m\u001b[0m\u001b[1;33m\u001b[0m\u001b[0m\n\u001b[0;32m     57\u001b[0m             \u001b[1;32melse\u001b[0m\u001b[1;33m:\u001b[0m\u001b[1;33m\u001b[0m\u001b[1;33m\u001b[0m\u001b[0m\n\u001b[1;32m---> 58\u001b[1;33m                 \u001b[0mdata\u001b[0m \u001b[1;33m=\u001b[0m \u001b[1;33m[\u001b[0m\u001b[0mself\u001b[0m\u001b[1;33m.\u001b[0m\u001b[0mdataset\u001b[0m\u001b[1;33m[\u001b[0m\u001b[0midx\u001b[0m\u001b[1;33m]\u001b[0m \u001b[1;32mfor\u001b[0m \u001b[0midx\u001b[0m \u001b[1;32min\u001b[0m \u001b[0mpossibly_batched_index\u001b[0m\u001b[1;33m]\u001b[0m\u001b[1;33m\u001b[0m\u001b[1;33m\u001b[0m\u001b[0m\n\u001b[0m\u001b[0;32m     59\u001b[0m         \u001b[1;32melse\u001b[0m\u001b[1;33m:\u001b[0m\u001b[1;33m\u001b[0m\u001b[1;33m\u001b[0m\u001b[0m\n\u001b[0;32m     60\u001b[0m             \u001b[0mdata\u001b[0m \u001b[1;33m=\u001b[0m \u001b[0mself\u001b[0m\u001b[1;33m.\u001b[0m\u001b[0mdataset\u001b[0m\u001b[1;33m[\u001b[0m\u001b[0mpossibly_batched_index\u001b[0m\u001b[1;33m]\u001b[0m\u001b[1;33m\u001b[0m\u001b[1;33m\u001b[0m\u001b[0m\n",
      "\u001b[1;32m~\\AppData\\Local\\Temp\\ipykernel_13400\\2159624959.py\u001b[0m in \u001b[0;36m__getitem__\u001b[1;34m(self, idx)\u001b[0m\n\u001b[0;32m     41\u001b[0m \u001b[1;33m\u001b[0m\u001b[0m\n\u001b[0;32m     42\u001b[0m     \u001b[1;32mdef\u001b[0m \u001b[0m__getitem__\u001b[0m\u001b[1;33m(\u001b[0m\u001b[0mself\u001b[0m\u001b[1;33m,\u001b[0m \u001b[0midx\u001b[0m\u001b[1;33m)\u001b[0m\u001b[1;33m:\u001b[0m\u001b[1;33m\u001b[0m\u001b[1;33m\u001b[0m\u001b[0m\n\u001b[1;32m---> 43\u001b[1;33m         \u001b[0mx\u001b[0m\u001b[1;33m,\u001b[0m \u001b[0my\u001b[0m\u001b[1;33m,\u001b[0m \u001b[0mrows\u001b[0m \u001b[1;33m=\u001b[0m \u001b[0mself\u001b[0m\u001b[1;33m.\u001b[0m\u001b[0mget_x_y\u001b[0m\u001b[1;33m(\u001b[0m\u001b[0midx\u001b[0m\u001b[1;33m,\u001b[0m \u001b[0mself\u001b[0m\u001b[1;33m.\u001b[0m\u001b[0mdf\u001b[0m\u001b[1;33m)\u001b[0m\u001b[1;33m\u001b[0m\u001b[1;33m\u001b[0m\u001b[0m\n\u001b[0m\u001b[0;32m     44\u001b[0m         \u001b[1;32mreturn\u001b[0m \u001b[0mx\u001b[0m\u001b[1;33m,\u001b[0m \u001b[0my\u001b[0m\u001b[1;33m,\u001b[0m \u001b[0mlist\u001b[0m\u001b[1;33m(\u001b[0m\u001b[0mrows\u001b[0m\u001b[1;33m[\u001b[0m\u001b[0mself\u001b[0m\u001b[1;33m.\u001b[0m\u001b[0minfo_cols\u001b[0m\u001b[1;33m]\u001b[0m\u001b[1;33m.\u001b[0m\u001b[0mvalues\u001b[0m\u001b[1;33m)\u001b[0m\u001b[1;33m\u001b[0m\u001b[1;33m\u001b[0m\u001b[0m\n",
      "\u001b[1;32m~\\AppData\\Local\\Temp\\ipykernel_13400\\2159624959.py\u001b[0m in \u001b[0;36mget_x_y\u001b[1;34m(self, idx, df)\u001b[0m\n\u001b[0;32m     35\u001b[0m \u001b[1;33m\u001b[0m\u001b[0m\n\u001b[0;32m     36\u001b[0m     \u001b[1;32mdef\u001b[0m \u001b[0mget_x_y\u001b[0m\u001b[1;33m(\u001b[0m\u001b[0mself\u001b[0m\u001b[1;33m,\u001b[0m \u001b[0midx\u001b[0m\u001b[1;33m,\u001b[0m \u001b[0mdf\u001b[0m\u001b[1;33m)\u001b[0m\u001b[1;33m:\u001b[0m\u001b[1;33m\u001b[0m\u001b[1;33m\u001b[0m\u001b[0m\n\u001b[1;32m---> 37\u001b[1;33m         \u001b[0mrows\u001b[0m \u001b[1;33m=\u001b[0m \u001b[0mdf\u001b[0m\u001b[1;33m.\u001b[0m\u001b[0miloc\u001b[0m\u001b[1;33m[\u001b[0m\u001b[1;33m[\u001b[0m\u001b[0midx\u001b[0m\u001b[1;33m]\u001b[0m\u001b[1;33m]\u001b[0m\u001b[1;33m\u001b[0m\u001b[1;33m\u001b[0m\u001b[0m\n\u001b[0m\u001b[0;32m     38\u001b[0m         \u001b[0mx\u001b[0m \u001b[1;33m=\u001b[0m \u001b[0m_make_window\u001b[0m\u001b[1;33m(\u001b[0m\u001b[0mrows\u001b[0m\u001b[1;33m,\u001b[0m \u001b[0mself\u001b[0m\u001b[1;33m.\u001b[0m\u001b[0mgroup\u001b[0m\u001b[1;33m,\u001b[0m \u001b[0mself\u001b[0m\u001b[1;33m.\u001b[0m\u001b[0mfeat_cols\u001b[0m\u001b[1;33m,\u001b[0m \u001b[0mself\u001b[0m\u001b[1;33m.\u001b[0m\u001b[0mseq_len\u001b[0m\u001b[1;33m)\u001b[0m\u001b[1;33m\u001b[0m\u001b[1;33m\u001b[0m\u001b[0m\n\u001b[0;32m     39\u001b[0m         \u001b[0my\u001b[0m \u001b[1;33m=\u001b[0m \u001b[0mlist\u001b[0m\u001b[1;33m(\u001b[0m\u001b[0mrows\u001b[0m\u001b[1;33m[\u001b[0m\u001b[1;34m'SepsisLabel'\u001b[0m\u001b[1;33m]\u001b[0m\u001b[1;33m.\u001b[0m\u001b[0mvalues\u001b[0m\u001b[1;33m)\u001b[0m\u001b[1;33m\u001b[0m\u001b[1;33m\u001b[0m\u001b[0m\n",
      "\u001b[1;32m~\\anaconda3\\lib\\site-packages\\pandas\\core\\indexing.py\u001b[0m in \u001b[0;36m__getitem__\u001b[1;34m(self, key)\u001b[0m\n\u001b[0;32m    965\u001b[0m \u001b[1;33m\u001b[0m\u001b[0m\n\u001b[0;32m    966\u001b[0m             \u001b[0mmaybe_callable\u001b[0m \u001b[1;33m=\u001b[0m \u001b[0mcom\u001b[0m\u001b[1;33m.\u001b[0m\u001b[0mapply_if_callable\u001b[0m\u001b[1;33m(\u001b[0m\u001b[0mkey\u001b[0m\u001b[1;33m,\u001b[0m \u001b[0mself\u001b[0m\u001b[1;33m.\u001b[0m\u001b[0mobj\u001b[0m\u001b[1;33m)\u001b[0m\u001b[1;33m\u001b[0m\u001b[1;33m\u001b[0m\u001b[0m\n\u001b[1;32m--> 967\u001b[1;33m             \u001b[1;32mreturn\u001b[0m \u001b[0mself\u001b[0m\u001b[1;33m.\u001b[0m\u001b[0m_getitem_axis\u001b[0m\u001b[1;33m(\u001b[0m\u001b[0mmaybe_callable\u001b[0m\u001b[1;33m,\u001b[0m \u001b[0maxis\u001b[0m\u001b[1;33m=\u001b[0m\u001b[0maxis\u001b[0m\u001b[1;33m)\u001b[0m\u001b[1;33m\u001b[0m\u001b[1;33m\u001b[0m\u001b[0m\n\u001b[0m\u001b[0;32m    968\u001b[0m \u001b[1;33m\u001b[0m\u001b[0m\n\u001b[0;32m    969\u001b[0m     \u001b[1;32mdef\u001b[0m \u001b[0m_is_scalar_access\u001b[0m\u001b[1;33m(\u001b[0m\u001b[0mself\u001b[0m\u001b[1;33m,\u001b[0m \u001b[0mkey\u001b[0m\u001b[1;33m:\u001b[0m \u001b[0mtuple\u001b[0m\u001b[1;33m)\u001b[0m\u001b[1;33m:\u001b[0m\u001b[1;33m\u001b[0m\u001b[1;33m\u001b[0m\u001b[0m\n",
      "\u001b[1;32m~\\anaconda3\\lib\\site-packages\\pandas\\core\\indexing.py\u001b[0m in \u001b[0;36m_getitem_axis\u001b[1;34m(self, key, axis)\u001b[0m\n\u001b[0;32m   1512\u001b[0m         \u001b[1;31m# a list of integers\u001b[0m\u001b[1;33m\u001b[0m\u001b[1;33m\u001b[0m\u001b[0m\n\u001b[0;32m   1513\u001b[0m         \u001b[1;32melif\u001b[0m \u001b[0mis_list_like_indexer\u001b[0m\u001b[1;33m(\u001b[0m\u001b[0mkey\u001b[0m\u001b[1;33m)\u001b[0m\u001b[1;33m:\u001b[0m\u001b[1;33m\u001b[0m\u001b[1;33m\u001b[0m\u001b[0m\n\u001b[1;32m-> 1514\u001b[1;33m             \u001b[1;32mreturn\u001b[0m \u001b[0mself\u001b[0m\u001b[1;33m.\u001b[0m\u001b[0m_get_list_axis\u001b[0m\u001b[1;33m(\u001b[0m\u001b[0mkey\u001b[0m\u001b[1;33m,\u001b[0m \u001b[0maxis\u001b[0m\u001b[1;33m=\u001b[0m\u001b[0maxis\u001b[0m\u001b[1;33m)\u001b[0m\u001b[1;33m\u001b[0m\u001b[1;33m\u001b[0m\u001b[0m\n\u001b[0m\u001b[0;32m   1515\u001b[0m \u001b[1;33m\u001b[0m\u001b[0m\n\u001b[0;32m   1516\u001b[0m         \u001b[1;31m# a single integer\u001b[0m\u001b[1;33m\u001b[0m\u001b[1;33m\u001b[0m\u001b[0m\n",
      "\u001b[1;32m~\\anaconda3\\lib\\site-packages\\pandas\\core\\indexing.py\u001b[0m in \u001b[0;36m_get_list_axis\u001b[1;34m(self, key, axis)\u001b[0m\n\u001b[0;32m   1486\u001b[0m         \u001b[1;32mexcept\u001b[0m \u001b[0mIndexError\u001b[0m \u001b[1;32mas\u001b[0m \u001b[0merr\u001b[0m\u001b[1;33m:\u001b[0m\u001b[1;33m\u001b[0m\u001b[1;33m\u001b[0m\u001b[0m\n\u001b[0;32m   1487\u001b[0m             \u001b[1;31m# re-raise with different error message\u001b[0m\u001b[1;33m\u001b[0m\u001b[1;33m\u001b[0m\u001b[0m\n\u001b[1;32m-> 1488\u001b[1;33m             \u001b[1;32mraise\u001b[0m \u001b[0mIndexError\u001b[0m\u001b[1;33m(\u001b[0m\u001b[1;34m\"positional indexers are out-of-bounds\"\u001b[0m\u001b[1;33m)\u001b[0m \u001b[1;32mfrom\u001b[0m \u001b[0merr\u001b[0m\u001b[1;33m\u001b[0m\u001b[1;33m\u001b[0m\u001b[0m\n\u001b[0m\u001b[0;32m   1489\u001b[0m \u001b[1;33m\u001b[0m\u001b[0m\n\u001b[0;32m   1490\u001b[0m     \u001b[1;32mdef\u001b[0m \u001b[0m_getitem_axis\u001b[0m\u001b[1;33m(\u001b[0m\u001b[0mself\u001b[0m\u001b[1;33m,\u001b[0m \u001b[0mkey\u001b[0m\u001b[1;33m,\u001b[0m \u001b[0maxis\u001b[0m\u001b[1;33m:\u001b[0m \u001b[0mint\u001b[0m\u001b[1;33m)\u001b[0m\u001b[1;33m:\u001b[0m\u001b[1;33m\u001b[0m\u001b[1;33m\u001b[0m\u001b[0m\n",
      "\u001b[1;31mIndexError\u001b[0m: positional indexers are out-of-bounds"
     ]
    }
   ],
   "source": [
    "#평가\n",
    "test_Y, test_pred, test_info = [], [], []\n",
    "test_len = len(test_dl)\n",
    "for data in tqdm(test_dl, total=test_len):\n",
    "    x, y, info = data\n",
    "    pred = model(x)\n",
    "    test_pred.append(pred)\n",
    "    test_info.append(info)\n",
    "    \n",
    "test_info = np.concatenate(test_info)"
   ]
  },
  {
   "cell_type": "code",
   "execution_count": 177,
   "id": "746ba8e7",
   "metadata": {
    "ExecuteTime": {
     "end_time": "2023-02-21T08:15:08.825670Z",
     "start_time": "2023-02-21T08:15:08.809712Z"
    }
   },
   "outputs": [
    {
     "ename": "AttributeError",
     "evalue": "'list' object has no attribute 'shape'",
     "output_type": "error",
     "traceback": [
      "\u001b[1;31m---------------------------------------------------------------------------\u001b[0m",
      "\u001b[1;31mAttributeError\u001b[0m                            Traceback (most recent call last)",
      "\u001b[1;32m~\\AppData\\Local\\Temp\\ipykernel_13400\\3666589188.py\u001b[0m in \u001b[0;36m<module>\u001b[1;34m\u001b[0m\n\u001b[1;32m----> 1\u001b[1;33m \u001b[0mtest_pred\u001b[0m\u001b[1;33m.\u001b[0m\u001b[0mshape\u001b[0m\u001b[1;33m\u001b[0m\u001b[1;33m\u001b[0m\u001b[0m\n\u001b[0m",
      "\u001b[1;31mAttributeError\u001b[0m: 'list' object has no attribute 'shape'"
     ]
    }
   ],
   "source": [
    "test_pred.shape"
   ]
  },
  {
   "cell_type": "code",
   "execution_count": 173,
   "id": "cd7f4c1f",
   "metadata": {
    "ExecuteTime": {
     "end_time": "2023-02-21T07:17:30.534955Z",
     "start_time": "2023-02-21T07:17:30.517593Z"
    }
   },
   "outputs": [
    {
     "ename": "AttributeError",
     "evalue": "'list' object has no attribute 'shape'",
     "output_type": "error",
     "traceback": [
      "\u001b[1;31m---------------------------------------------------------------------------\u001b[0m",
      "\u001b[1;31mAttributeError\u001b[0m                            Traceback (most recent call last)",
      "\u001b[1;32m~\\AppData\\Local\\Temp\\ipykernel_13400\\686036729.py\u001b[0m in \u001b[0;36m<module>\u001b[1;34m\u001b[0m\n\u001b[1;32m----> 1\u001b[1;33m \u001b[0mtest_info\u001b[0m\u001b[1;33m.\u001b[0m\u001b[0mshape\u001b[0m\u001b[1;33m\u001b[0m\u001b[1;33m\u001b[0m\u001b[0m\n\u001b[0m",
      "\u001b[1;31mAttributeError\u001b[0m: 'list' object has no attribute 'shape'"
     ]
    }
   ],
   "source": [
    "test_info.shape"
   ]
  },
  {
   "cell_type": "code",
   "execution_count": null,
   "id": "eaaa535c",
   "metadata": {},
   "outputs": [],
   "source": []
  },
  {
   "cell_type": "code",
   "execution_count": null,
   "id": "f82788d1",
   "metadata": {},
   "outputs": [],
   "source": []
  },
  {
   "cell_type": "code",
   "execution_count": null,
   "id": "50628da2",
   "metadata": {},
   "outputs": [],
   "source": []
  },
  {
   "cell_type": "code",
   "execution_count": null,
   "id": "cdefe6fc",
   "metadata": {},
   "outputs": [],
   "source": []
  },
  {
   "cell_type": "code",
   "execution_count": null,
   "id": "6a8380fd",
   "metadata": {},
   "outputs": [],
   "source": []
  }
 ],
 "metadata": {
  "kernelspec": {
   "display_name": "Python 3 (ipykernel)",
   "language": "python",
   "name": "python3"
  },
  "language_info": {
   "codemirror_mode": {
    "name": "ipython",
    "version": 3
   },
   "file_extension": ".py",
   "mimetype": "text/x-python",
   "name": "python",
   "nbconvert_exporter": "python",
   "pygments_lexer": "ipython3",
   "version": "3.9.13"
  },
  "toc": {
   "base_numbering": 1,
   "nav_menu": {},
   "number_sections": true,
   "sideBar": true,
   "skip_h1_title": false,
   "title_cell": "Table of Contents",
   "title_sidebar": "Contents",
   "toc_cell": false,
   "toc_position": {},
   "toc_section_display": true,
   "toc_window_display": false
  }
 },
 "nbformat": 4,
 "nbformat_minor": 5
}

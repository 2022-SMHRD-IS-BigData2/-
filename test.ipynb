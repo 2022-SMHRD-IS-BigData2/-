{
 "cells": [
  {
   "cell_type": "code",
   "execution_count": null,
   "metadata": {},
   "outputs": [],
   "source": [
    "#건들지마세요"
   ]
  },
  {
   "cell_type": "code",
   "execution_count": null,
   "metadata": {},
   "outputs": [],
   "source": [
    "# 알겟습니당"
   ]
  }
 ],
 "metadata": {
  "kernelspec": {
   "display_name": "base",
   "language": "python",
   "name": "python3"
  },
  "language_info": {
   "name": "python",
   "version": "3.9.13"
  },
  "orig_nbformat": 4,
  "vscode": {
   "interpreter": {
    "hash": "3d897ffbc13b5710e71e9fb36eb41d8dd58a75d8f4bd294893ab0962f9ec9b14"
   }
  }
 },
 "nbformat": 4,
 "nbformat_minor": 2
}
